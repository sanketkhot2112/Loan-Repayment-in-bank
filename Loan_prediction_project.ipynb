{
 "cells": [
  {
   "cell_type": "code",
   "execution_count": 1,
   "id": "e3ba5b18",
   "metadata": {},
   "outputs": [],
   "source": [
    "import pandas as pd\n",
    "import matplotlib.pyplot as plt\n",
    "import seaborn as sns"
   ]
  },
  {
   "cell_type": "code",
   "execution_count": 112,
   "id": "1bffa75b",
   "metadata": {},
   "outputs": [],
   "source": [
    "data = pd.read_csv(r'train_loan_data (1).csv')"
   ]
  },
  {
   "cell_type": "code",
   "execution_count": 113,
   "id": "67297c48",
   "metadata": {},
   "outputs": [],
   "source": [
    "pd.options.display.max_columns = None"
   ]
  },
  {
   "cell_type": "code",
   "execution_count": 114,
   "id": "01331a8c",
   "metadata": {},
   "outputs": [
    {
     "data": {
      "text/html": [
       "<div>\n",
       "<style scoped>\n",
       "    .dataframe tbody tr th:only-of-type {\n",
       "        vertical-align: middle;\n",
       "    }\n",
       "\n",
       "    .dataframe tbody tr th {\n",
       "        vertical-align: top;\n",
       "    }\n",
       "\n",
       "    .dataframe thead th {\n",
       "        text-align: right;\n",
       "    }\n",
       "</style>\n",
       "<table border=\"1\" class=\"dataframe\">\n",
       "  <thead>\n",
       "    <tr style=\"text-align: right;\">\n",
       "      <th></th>\n",
       "      <th>addr_state</th>\n",
       "      <th>annual_inc</th>\n",
       "      <th>earliest_cr_line</th>\n",
       "      <th>emp_length</th>\n",
       "      <th>emp_title</th>\n",
       "      <th>fico_range_high</th>\n",
       "      <th>fico_range_low</th>\n",
       "      <th>grade</th>\n",
       "      <th>home_ownership</th>\n",
       "      <th>application_type</th>\n",
       "      <th>initial_list_status</th>\n",
       "      <th>int_rate</th>\n",
       "      <th>loan_amnt</th>\n",
       "      <th>num_actv_bc_tl</th>\n",
       "      <th>mort_acc</th>\n",
       "      <th>tot_cur_bal</th>\n",
       "      <th>open_acc</th>\n",
       "      <th>pub_rec</th>\n",
       "      <th>pub_rec_bankruptcies</th>\n",
       "      <th>purpose</th>\n",
       "      <th>revol_bal</th>\n",
       "      <th>revol_util</th>\n",
       "      <th>sub_grade</th>\n",
       "      <th>term</th>\n",
       "      <th>title</th>\n",
       "      <th>total_acc</th>\n",
       "      <th>verification_status</th>\n",
       "      <th>loan_status</th>\n",
       "    </tr>\n",
       "  </thead>\n",
       "  <tbody>\n",
       "    <tr>\n",
       "      <th>0</th>\n",
       "      <td>CO</td>\n",
       "      <td>85000.0</td>\n",
       "      <td>Jul-97</td>\n",
       "      <td>10+ years</td>\n",
       "      <td>Deputy</td>\n",
       "      <td>744</td>\n",
       "      <td>740</td>\n",
       "      <td>E</td>\n",
       "      <td>MORTGAGE</td>\n",
       "      <td>Individual</td>\n",
       "      <td>w</td>\n",
       "      <td>18.99</td>\n",
       "      <td>18075</td>\n",
       "      <td>1.0</td>\n",
       "      <td>1.0</td>\n",
       "      <td>319479.0</td>\n",
       "      <td>7</td>\n",
       "      <td>0</td>\n",
       "      <td>0.0</td>\n",
       "      <td>debt_consolidation</td>\n",
       "      <td>5338</td>\n",
       "      <td>93.6</td>\n",
       "      <td>E1</td>\n",
       "      <td>60 months</td>\n",
       "      <td>Debt consolidation</td>\n",
       "      <td>8</td>\n",
       "      <td>Source Verified</td>\n",
       "      <td>Defaulted</td>\n",
       "    </tr>\n",
       "    <tr>\n",
       "      <th>1</th>\n",
       "      <td>CA</td>\n",
       "      <td>40000.0</td>\n",
       "      <td>Apr-87</td>\n",
       "      <td>10+ years</td>\n",
       "      <td>Department of Veterans Affairs</td>\n",
       "      <td>724</td>\n",
       "      <td>720</td>\n",
       "      <td>B</td>\n",
       "      <td>RENT</td>\n",
       "      <td>Individual</td>\n",
       "      <td>w</td>\n",
       "      <td>10.16</td>\n",
       "      <td>8800</td>\n",
       "      <td>4.0</td>\n",
       "      <td>0.0</td>\n",
       "      <td>19944.0</td>\n",
       "      <td>5</td>\n",
       "      <td>0</td>\n",
       "      <td>0.0</td>\n",
       "      <td>debt_consolidation</td>\n",
       "      <td>19944</td>\n",
       "      <td>60.3</td>\n",
       "      <td>B1</td>\n",
       "      <td>36 months</td>\n",
       "      <td>Credit Loan</td>\n",
       "      <td>12</td>\n",
       "      <td>Verified</td>\n",
       "      <td>Paid</td>\n",
       "    </tr>\n",
       "    <tr>\n",
       "      <th>2</th>\n",
       "      <td>FL</td>\n",
       "      <td>60000.0</td>\n",
       "      <td>Aug-07</td>\n",
       "      <td>10+ years</td>\n",
       "      <td>Marble polishing</td>\n",
       "      <td>679</td>\n",
       "      <td>675</td>\n",
       "      <td>B</td>\n",
       "      <td>MORTGAGE</td>\n",
       "      <td>Individual</td>\n",
       "      <td>w</td>\n",
       "      <td>11.47</td>\n",
       "      <td>18000</td>\n",
       "      <td>4.0</td>\n",
       "      <td>2.0</td>\n",
       "      <td>23199.0</td>\n",
       "      <td>7</td>\n",
       "      <td>0</td>\n",
       "      <td>0.0</td>\n",
       "      <td>debt_consolidation</td>\n",
       "      <td>23199</td>\n",
       "      <td>88.5</td>\n",
       "      <td>B5</td>\n",
       "      <td>36 months</td>\n",
       "      <td>Debt consolidation</td>\n",
       "      <td>16</td>\n",
       "      <td>Source Verified</td>\n",
       "      <td>Paid</td>\n",
       "    </tr>\n",
       "    <tr>\n",
       "      <th>3</th>\n",
       "      <td>IL</td>\n",
       "      <td>100742.0</td>\n",
       "      <td>Sep-80</td>\n",
       "      <td>10+ years</td>\n",
       "      <td>printer</td>\n",
       "      <td>664</td>\n",
       "      <td>660</td>\n",
       "      <td>B</td>\n",
       "      <td>MORTGAGE</td>\n",
       "      <td>Individual</td>\n",
       "      <td>w</td>\n",
       "      <td>9.16</td>\n",
       "      <td>20000</td>\n",
       "      <td>4.0</td>\n",
       "      <td>1.0</td>\n",
       "      <td>72651.0</td>\n",
       "      <td>12</td>\n",
       "      <td>0</td>\n",
       "      <td>0.0</td>\n",
       "      <td>debt_consolidation</td>\n",
       "      <td>18425</td>\n",
       "      <td>69.0</td>\n",
       "      <td>B2</td>\n",
       "      <td>36 months</td>\n",
       "      <td>Debt consolidation</td>\n",
       "      <td>19</td>\n",
       "      <td>Source Verified</td>\n",
       "      <td>Paid</td>\n",
       "    </tr>\n",
       "    <tr>\n",
       "      <th>4</th>\n",
       "      <td>MD</td>\n",
       "      <td>80000.0</td>\n",
       "      <td>Jul-99</td>\n",
       "      <td>10+ years</td>\n",
       "      <td>Southern Mgmt</td>\n",
       "      <td>669</td>\n",
       "      <td>665</td>\n",
       "      <td>F</td>\n",
       "      <td>RENT</td>\n",
       "      <td>Individual</td>\n",
       "      <td>f</td>\n",
       "      <td>23.83</td>\n",
       "      <td>35000</td>\n",
       "      <td>14.0</td>\n",
       "      <td>7.0</td>\n",
       "      <td>64631.0</td>\n",
       "      <td>23</td>\n",
       "      <td>0</td>\n",
       "      <td>0.0</td>\n",
       "      <td>debt_consolidation</td>\n",
       "      <td>34370</td>\n",
       "      <td>90.0</td>\n",
       "      <td>F5</td>\n",
       "      <td>60 months</td>\n",
       "      <td>Debt Connsolidation</td>\n",
       "      <td>59</td>\n",
       "      <td>Verified</td>\n",
       "      <td>Paid</td>\n",
       "    </tr>\n",
       "    <tr>\n",
       "      <th>...</th>\n",
       "      <td>...</td>\n",
       "      <td>...</td>\n",
       "      <td>...</td>\n",
       "      <td>...</td>\n",
       "      <td>...</td>\n",
       "      <td>...</td>\n",
       "      <td>...</td>\n",
       "      <td>...</td>\n",
       "      <td>...</td>\n",
       "      <td>...</td>\n",
       "      <td>...</td>\n",
       "      <td>...</td>\n",
       "      <td>...</td>\n",
       "      <td>...</td>\n",
       "      <td>...</td>\n",
       "      <td>...</td>\n",
       "      <td>...</td>\n",
       "      <td>...</td>\n",
       "      <td>...</td>\n",
       "      <td>...</td>\n",
       "      <td>...</td>\n",
       "      <td>...</td>\n",
       "      <td>...</td>\n",
       "      <td>...</td>\n",
       "      <td>...</td>\n",
       "      <td>...</td>\n",
       "      <td>...</td>\n",
       "      <td>...</td>\n",
       "    </tr>\n",
       "    <tr>\n",
       "      <th>79995</th>\n",
       "      <td>SC</td>\n",
       "      <td>81000.0</td>\n",
       "      <td>Feb-00</td>\n",
       "      <td>10+ years</td>\n",
       "      <td>Sports Group Manager</td>\n",
       "      <td>664</td>\n",
       "      <td>660</td>\n",
       "      <td>G</td>\n",
       "      <td>MORTGAGE</td>\n",
       "      <td>Individual</td>\n",
       "      <td>w</td>\n",
       "      <td>25.89</td>\n",
       "      <td>25850</td>\n",
       "      <td>5.0</td>\n",
       "      <td>4.0</td>\n",
       "      <td>220521.0</td>\n",
       "      <td>12</td>\n",
       "      <td>0</td>\n",
       "      <td>0.0</td>\n",
       "      <td>debt_consolidation</td>\n",
       "      <td>20201</td>\n",
       "      <td>93.5</td>\n",
       "      <td>G3</td>\n",
       "      <td>60 months</td>\n",
       "      <td>Debt consolidation</td>\n",
       "      <td>42</td>\n",
       "      <td>Verified</td>\n",
       "      <td>Defaulted</td>\n",
       "    </tr>\n",
       "    <tr>\n",
       "      <th>79996</th>\n",
       "      <td>NH</td>\n",
       "      <td>45000.0</td>\n",
       "      <td>Aug-95</td>\n",
       "      <td>10+ years</td>\n",
       "      <td>Web Designer</td>\n",
       "      <td>684</td>\n",
       "      <td>680</td>\n",
       "      <td>C</td>\n",
       "      <td>MORTGAGE</td>\n",
       "      <td>Individual</td>\n",
       "      <td>w</td>\n",
       "      <td>12.29</td>\n",
       "      <td>6975</td>\n",
       "      <td>2.0</td>\n",
       "      <td>2.0</td>\n",
       "      <td>245781.0</td>\n",
       "      <td>7</td>\n",
       "      <td>0</td>\n",
       "      <td>0.0</td>\n",
       "      <td>debt_consolidation</td>\n",
       "      <td>6145</td>\n",
       "      <td>56.9</td>\n",
       "      <td>C1</td>\n",
       "      <td>36 months</td>\n",
       "      <td>Debt consolidation</td>\n",
       "      <td>14</td>\n",
       "      <td>Not Verified</td>\n",
       "      <td>Paid</td>\n",
       "    </tr>\n",
       "    <tr>\n",
       "      <th>79997</th>\n",
       "      <td>NY</td>\n",
       "      <td>90000.0</td>\n",
       "      <td>Apr-05</td>\n",
       "      <td>&lt; 1 year</td>\n",
       "      <td>Program Officer</td>\n",
       "      <td>724</td>\n",
       "      <td>720</td>\n",
       "      <td>B</td>\n",
       "      <td>OWN</td>\n",
       "      <td>Individual</td>\n",
       "      <td>w</td>\n",
       "      <td>10.99</td>\n",
       "      <td>7000</td>\n",
       "      <td>1.0</td>\n",
       "      <td>3.0</td>\n",
       "      <td>382274.0</td>\n",
       "      <td>9</td>\n",
       "      <td>0</td>\n",
       "      <td>0.0</td>\n",
       "      <td>debt_consolidation</td>\n",
       "      <td>3910</td>\n",
       "      <td>25.6</td>\n",
       "      <td>B4</td>\n",
       "      <td>36 months</td>\n",
       "      <td>Debt consolidation</td>\n",
       "      <td>26</td>\n",
       "      <td>Source Verified</td>\n",
       "      <td>Paid</td>\n",
       "    </tr>\n",
       "    <tr>\n",
       "      <th>79998</th>\n",
       "      <td>TX</td>\n",
       "      <td>94000.0</td>\n",
       "      <td>Apr-92</td>\n",
       "      <td>3 years</td>\n",
       "      <td>Sr. Business Analyst</td>\n",
       "      <td>669</td>\n",
       "      <td>665</td>\n",
       "      <td>D</td>\n",
       "      <td>MORTGAGE</td>\n",
       "      <td>Individual</td>\n",
       "      <td>w</td>\n",
       "      <td>19.47</td>\n",
       "      <td>18000</td>\n",
       "      <td>3.0</td>\n",
       "      <td>3.0</td>\n",
       "      <td>201841.0</td>\n",
       "      <td>16</td>\n",
       "      <td>1</td>\n",
       "      <td>1.0</td>\n",
       "      <td>credit_card</td>\n",
       "      <td>11897</td>\n",
       "      <td>49.4</td>\n",
       "      <td>D5</td>\n",
       "      <td>60 months</td>\n",
       "      <td>Credit card refinancing</td>\n",
       "      <td>48</td>\n",
       "      <td>Source Verified</td>\n",
       "      <td>Paid</td>\n",
       "    </tr>\n",
       "    <tr>\n",
       "      <th>79999</th>\n",
       "      <td>NY</td>\n",
       "      <td>1100000.0</td>\n",
       "      <td>Jun-99</td>\n",
       "      <td>2 years</td>\n",
       "      <td>Managing Director</td>\n",
       "      <td>664</td>\n",
       "      <td>660</td>\n",
       "      <td>B</td>\n",
       "      <td>MORTGAGE</td>\n",
       "      <td>Individual</td>\n",
       "      <td>w</td>\n",
       "      <td>10.78</td>\n",
       "      <td>20000</td>\n",
       "      <td>4.0</td>\n",
       "      <td>2.0</td>\n",
       "      <td>3046776.0</td>\n",
       "      <td>13</td>\n",
       "      <td>0</td>\n",
       "      <td>0.0</td>\n",
       "      <td>debt_consolidation</td>\n",
       "      <td>586259</td>\n",
       "      <td>96.7</td>\n",
       "      <td>B4</td>\n",
       "      <td>36 months</td>\n",
       "      <td>Debt consolidation</td>\n",
       "      <td>32</td>\n",
       "      <td>Source Verified</td>\n",
       "      <td>Paid</td>\n",
       "    </tr>\n",
       "  </tbody>\n",
       "</table>\n",
       "<p>80000 rows × 28 columns</p>\n",
       "</div>"
      ],
      "text/plain": [
       "      addr_state  annual_inc earliest_cr_line emp_length  \\\n",
       "0             CO     85000.0           Jul-97  10+ years   \n",
       "1             CA     40000.0           Apr-87  10+ years   \n",
       "2             FL     60000.0           Aug-07  10+ years   \n",
       "3             IL    100742.0           Sep-80  10+ years   \n",
       "4             MD     80000.0           Jul-99  10+ years   \n",
       "...          ...         ...              ...        ...   \n",
       "79995         SC     81000.0           Feb-00  10+ years   \n",
       "79996         NH     45000.0           Aug-95  10+ years   \n",
       "79997         NY     90000.0           Apr-05   < 1 year   \n",
       "79998         TX     94000.0           Apr-92    3 years   \n",
       "79999         NY   1100000.0           Jun-99    2 years   \n",
       "\n",
       "                            emp_title  fico_range_high  fico_range_low grade  \\\n",
       "0                              Deputy              744             740     E   \n",
       "1      Department of Veterans Affairs              724             720     B   \n",
       "2                    Marble polishing              679             675     B   \n",
       "3                             printer              664             660     B   \n",
       "4                       Southern Mgmt              669             665     F   \n",
       "...                               ...              ...             ...   ...   \n",
       "79995            Sports Group Manager              664             660     G   \n",
       "79996                    Web Designer              684             680     C   \n",
       "79997                 Program Officer              724             720     B   \n",
       "79998            Sr. Business Analyst              669             665     D   \n",
       "79999               Managing Director              664             660     B   \n",
       "\n",
       "      home_ownership application_type initial_list_status  int_rate  \\\n",
       "0           MORTGAGE       Individual                   w     18.99   \n",
       "1               RENT       Individual                   w     10.16   \n",
       "2           MORTGAGE       Individual                   w     11.47   \n",
       "3           MORTGAGE       Individual                   w      9.16   \n",
       "4               RENT       Individual                   f     23.83   \n",
       "...              ...              ...                 ...       ...   \n",
       "79995       MORTGAGE       Individual                   w     25.89   \n",
       "79996       MORTGAGE       Individual                   w     12.29   \n",
       "79997            OWN       Individual                   w     10.99   \n",
       "79998       MORTGAGE       Individual                   w     19.47   \n",
       "79999       MORTGAGE       Individual                   w     10.78   \n",
       "\n",
       "       loan_amnt  num_actv_bc_tl  mort_acc  tot_cur_bal  open_acc  pub_rec  \\\n",
       "0          18075             1.0       1.0     319479.0         7        0   \n",
       "1           8800             4.0       0.0      19944.0         5        0   \n",
       "2          18000             4.0       2.0      23199.0         7        0   \n",
       "3          20000             4.0       1.0      72651.0        12        0   \n",
       "4          35000            14.0       7.0      64631.0        23        0   \n",
       "...          ...             ...       ...          ...       ...      ...   \n",
       "79995      25850             5.0       4.0     220521.0        12        0   \n",
       "79996       6975             2.0       2.0     245781.0         7        0   \n",
       "79997       7000             1.0       3.0     382274.0         9        0   \n",
       "79998      18000             3.0       3.0     201841.0        16        1   \n",
       "79999      20000             4.0       2.0    3046776.0        13        0   \n",
       "\n",
       "       pub_rec_bankruptcies             purpose  revol_bal  revol_util  \\\n",
       "0                       0.0  debt_consolidation       5338        93.6   \n",
       "1                       0.0  debt_consolidation      19944        60.3   \n",
       "2                       0.0  debt_consolidation      23199        88.5   \n",
       "3                       0.0  debt_consolidation      18425        69.0   \n",
       "4                       0.0  debt_consolidation      34370        90.0   \n",
       "...                     ...                 ...        ...         ...   \n",
       "79995                   0.0  debt_consolidation      20201        93.5   \n",
       "79996                   0.0  debt_consolidation       6145        56.9   \n",
       "79997                   0.0  debt_consolidation       3910        25.6   \n",
       "79998                   1.0         credit_card      11897        49.4   \n",
       "79999                   0.0  debt_consolidation     586259        96.7   \n",
       "\n",
       "      sub_grade        term                    title  total_acc  \\\n",
       "0            E1   60 months       Debt consolidation          8   \n",
       "1            B1   36 months              Credit Loan         12   \n",
       "2            B5   36 months       Debt consolidation         16   \n",
       "3            B2   36 months       Debt consolidation         19   \n",
       "4            F5   60 months      Debt Connsolidation         59   \n",
       "...         ...         ...                      ...        ...   \n",
       "79995        G3   60 months       Debt consolidation         42   \n",
       "79996        C1   36 months       Debt consolidation         14   \n",
       "79997        B4   36 months       Debt consolidation         26   \n",
       "79998        D5   60 months  Credit card refinancing         48   \n",
       "79999        B4   36 months       Debt consolidation         32   \n",
       "\n",
       "      verification_status loan_status  \n",
       "0         Source Verified   Defaulted  \n",
       "1                Verified        Paid  \n",
       "2         Source Verified        Paid  \n",
       "3         Source Verified        Paid  \n",
       "4                Verified        Paid  \n",
       "...                   ...         ...  \n",
       "79995            Verified   Defaulted  \n",
       "79996        Not Verified        Paid  \n",
       "79997     Source Verified        Paid  \n",
       "79998     Source Verified        Paid  \n",
       "79999     Source Verified        Paid  \n",
       "\n",
       "[80000 rows x 28 columns]"
      ]
     },
     "execution_count": 114,
     "metadata": {},
     "output_type": "execute_result"
    }
   ],
   "source": [
    "data"
   ]
  },
  {
   "cell_type": "code",
   "execution_count": 116,
   "id": "9c18f58d",
   "metadata": {},
   "outputs": [
    {
     "data": {
      "text/plain": [
       "(80000, 28)"
      ]
     },
     "execution_count": 116,
     "metadata": {},
     "output_type": "execute_result"
    }
   ],
   "source": [
    "data.shape"
   ]
  },
  {
   "cell_type": "markdown",
   "id": "1c45e551",
   "metadata": {},
   "source": [
    "#  Exploratory Data Analysis:"
   ]
  },
  {
   "cell_type": "code",
   "execution_count": 5,
   "id": "1c1f2609",
   "metadata": {},
   "outputs": [],
   "source": [
    "LABELS = ['Paid','Default']"
   ]
  },
  {
   "cell_type": "code",
   "execution_count": 6,
   "id": "ab05425b",
   "metadata": {},
   "outputs": [
    {
     "data": {
      "text/plain": [
       "Text(0, 0.5, 'No. of Borrower’s')"
      ]
     },
     "execution_count": 6,
     "metadata": {},
     "output_type": "execute_result"
    },
    {
     "data": {
      "image/png": "[encoded data removed]",
      "text/plain": [
       "<Figure size 640x480 with 1 Axes>"
      ]
     },
     "metadata": {},
     "output_type": "display_data"
    }
   ],
   "source": [
    "set_class = pd.value_counts(data['loan_status'],sort = True)\n",
    "set_class.plot(kind = 'bar', rot = 0)\n",
    "plt.title('Loan Distribution of Borrower’s')\n",
    "plt.xticks(range(2),LABELS )\n",
    "plt.xlabel('Loan Status')\n",
    "plt.ylabel('No. of Borrower’s')"
   ]
  },
  {
   "cell_type": "markdown",
   "id": "2647ff8d",
   "metadata": {},
   "source": [
    "# Feature Selection"
   ]
  },
  {
   "cell_type": "code",
   "execution_count": 7,
   "id": "2386ff3b",
   "metadata": {},
   "outputs": [],
   "source": [
    "data.drop(['addr_state','earliest_cr_line','emp_title','purpose','title'],axis=1,inplace=True)"
   ]
  },
  {
   "cell_type": "markdown",
   "id": "f34390e5",
   "metadata": {},
   "source": [
    "addr_state , earliest_cr_line,emp_title,purpose and title are features which not so much important for are model.\n",
    "Therefore we drop them"
   ]
  },
  {
   "cell_type": "code",
   "execution_count": 8,
   "id": "d5325bb1",
   "metadata": {},
   "outputs": [
    {
     "data": {
      "text/html": [
       "<div>\n",
       "<style scoped>\n",
       "    .dataframe tbody tr th:only-of-type {\n",
       "        vertical-align: middle;\n",
       "    }\n",
       "\n",
       "    .dataframe tbody tr th {\n",
       "        vertical-align: top;\n",
       "    }\n",
       "\n",
       "    .dataframe thead th {\n",
       "        text-align: right;\n",
       "    }\n",
       "</style>\n",
       "<table border=\"1\" class=\"dataframe\">\n",
       "  <thead>\n",
       "    <tr style=\"text-align: right;\">\n",
       "      <th></th>\n",
       "      <th>annual_inc</th>\n",
       "      <th>emp_length</th>\n",
       "      <th>fico_range_high</th>\n",
       "      <th>fico_range_low</th>\n",
       "      <th>grade</th>\n",
       "      <th>home_ownership</th>\n",
       "      <th>application_type</th>\n",
       "      <th>initial_list_status</th>\n",
       "      <th>int_rate</th>\n",
       "      <th>loan_amnt</th>\n",
       "      <th>num_actv_bc_tl</th>\n",
       "      <th>mort_acc</th>\n",
       "      <th>tot_cur_bal</th>\n",
       "      <th>open_acc</th>\n",
       "      <th>pub_rec</th>\n",
       "      <th>pub_rec_bankruptcies</th>\n",
       "      <th>revol_bal</th>\n",
       "      <th>revol_util</th>\n",
       "      <th>sub_grade</th>\n",
       "      <th>term</th>\n",
       "      <th>total_acc</th>\n",
       "      <th>verification_status</th>\n",
       "      <th>loan_status</th>\n",
       "    </tr>\n",
       "  </thead>\n",
       "  <tbody>\n",
       "    <tr>\n",
       "      <th>0</th>\n",
       "      <td>85000.0</td>\n",
       "      <td>10+ years</td>\n",
       "      <td>744</td>\n",
       "      <td>740</td>\n",
       "      <td>E</td>\n",
       "      <td>MORTGAGE</td>\n",
       "      <td>Individual</td>\n",
       "      <td>w</td>\n",
       "      <td>18.99</td>\n",
       "      <td>18075</td>\n",
       "      <td>1.0</td>\n",
       "      <td>1.0</td>\n",
       "      <td>319479.0</td>\n",
       "      <td>7</td>\n",
       "      <td>0</td>\n",
       "      <td>0.0</td>\n",
       "      <td>5338</td>\n",
       "      <td>93.6</td>\n",
       "      <td>E1</td>\n",
       "      <td>60 months</td>\n",
       "      <td>8</td>\n",
       "      <td>Source Verified</td>\n",
       "      <td>Defaulted</td>\n",
       "    </tr>\n",
       "  </tbody>\n",
       "</table>\n",
       "</div>"
      ],
      "text/plain": [
       "   annual_inc emp_length  fico_range_high  fico_range_low grade  \\\n",
       "0     85000.0  10+ years              744             740     E   \n",
       "\n",
       "  home_ownership application_type initial_list_status  int_rate  loan_amnt  \\\n",
       "0       MORTGAGE       Individual                   w     18.99      18075   \n",
       "\n",
       "   num_actv_bc_tl  mort_acc  tot_cur_bal  open_acc  pub_rec  \\\n",
       "0             1.0       1.0     319479.0         7        0   \n",
       "\n",
       "   pub_rec_bankruptcies  revol_bal  revol_util sub_grade        term  \\\n",
       "0                   0.0       5338        93.6        E1   60 months   \n",
       "\n",
       "   total_acc verification_status loan_status  \n",
       "0          8     Source Verified   Defaulted  "
      ]
     },
     "execution_count": 8,
     "metadata": {},
     "output_type": "execute_result"
    }
   ],
   "source": [
    "data.head(1)"
   ]
  },
  {
   "cell_type": "markdown",
   "id": "2f30db31",
   "metadata": {},
   "source": [
    "# Feature Engineering"
   ]
  },
  {
   "cell_type": "markdown",
   "id": "477c448c",
   "metadata": {},
   "source": [
    "Removing years and '+' sign from the emp_length feature"
   ]
  },
  {
   "cell_type": "code",
   "execution_count": 9,
   "id": "29f94d49",
   "metadata": {},
   "outputs": [],
   "source": [
    "data['emp_length']=data['emp_length'].str.replace('years',' ')"
   ]
  },
  {
   "cell_type": "code",
   "execution_count": 10,
   "id": "3556370e",
   "metadata": {},
   "outputs": [
    {
     "name": "stderr",
     "output_type": "stream",
     "text": [
      "C:\\Users\\sanke\\AppData\\Local\\Temp\\ipykernel_268\\134915921.py:1: FutureWarning: The default value of regex will change from True to False in a future version. In addition, single character regular expressions will *not* be treated as literal strings when regex=True.\n",
      "  data['emp_length']=data['emp_length'].str.replace('+',' ')\n"
     ]
    }
   ],
   "source": [
    "data['emp_length']=data['emp_length'].str.replace('+',' ')"
   ]
  },
  {
   "cell_type": "code",
   "execution_count": 11,
   "id": "a2661634",
   "metadata": {},
   "outputs": [],
   "source": [
    "data['emp_length']=data['emp_length'].str.replace('< 1 year','0')    # 0 means less then 1"
   ]
  },
  {
   "cell_type": "code",
   "execution_count": 12,
   "id": "cb9cbc39",
   "metadata": {},
   "outputs": [],
   "source": [
    "data['emp_length']=data['emp_length'].replace('1 year',1)"
   ]
  },
  {
   "cell_type": "code",
   "execution_count": 13,
   "id": "13a9a35e",
   "metadata": {},
   "outputs": [
    {
     "data": {
      "text/plain": [
       "dtype('O')"
      ]
     },
     "execution_count": 13,
     "metadata": {},
     "output_type": "execute_result"
    }
   ],
   "source": [
    "data['emp_length'].dtypes                                        "
   ]
  },
  {
   "cell_type": "code",
   "execution_count": 14,
   "id": "ef348589",
   "metadata": {},
   "outputs": [
    {
     "data": {
      "text/plain": [
       "0        10.0\n",
       "1        10.0\n",
       "2        10.0\n",
       "3        10.0\n",
       "4        10.0\n",
       "         ... \n",
       "79995    10.0\n",
       "79996    10.0\n",
       "79997     0.0\n",
       "79998     3.0\n",
       "79999     2.0\n",
       "Name: emp_length, Length: 80000, dtype: float64"
      ]
     },
     "execution_count": 14,
     "metadata": {},
     "output_type": "execute_result"
    }
   ],
   "source": [
    "data['emp_length'].astype('float')                                    "
   ]
  },
  {
   "cell_type": "code",
   "execution_count": 15,
   "id": "bb658939",
   "metadata": {},
   "outputs": [],
   "source": [
    "# droping months form feature term"
   ]
  },
  {
   "cell_type": "code",
   "execution_count": 16,
   "id": "da54f11d",
   "metadata": {},
   "outputs": [],
   "source": [
    "data['term']=data['term'].str.replace('months','')"
   ]
  },
  {
   "cell_type": "code",
   "execution_count": 17,
   "id": "b5f64617",
   "metadata": {},
   "outputs": [
    {
     "data": {
      "text/plain": [
       "0        60.0\n",
       "1        36.0\n",
       "2        36.0\n",
       "3        36.0\n",
       "4        60.0\n",
       "         ... \n",
       "79995    60.0\n",
       "79996    36.0\n",
       "79997    36.0\n",
       "79998    60.0\n",
       "79999    36.0\n",
       "Name: term, Length: 80000, dtype: float64"
      ]
     },
     "execution_count": 17,
     "metadata": {},
     "output_type": "execute_result"
    }
   ],
   "source": [
    "data['term'].astype('float')"
   ]
  },
  {
   "cell_type": "markdown",
   "id": "374b0b69",
   "metadata": {},
   "source": [
    "There are many features in string category . Therefore converting them in numeric data\n",
    "For this labelencoder module is used"
   ]
  },
  {
   "cell_type": "code",
   "execution_count": 18,
   "id": "342a37d4",
   "metadata": {},
   "outputs": [],
   "source": [
    "from sklearn.preprocessing import LabelEncoder    "
   ]
  },
  {
   "cell_type": "code",
   "execution_count": 19,
   "id": "2d4e13e8",
   "metadata": {},
   "outputs": [],
   "source": [
    "LE= LabelEncoder()"
   ]
  },
  {
   "cell_type": "code",
   "execution_count": 20,
   "id": "0f4d1c22",
   "metadata": {},
   "outputs": [],
   "source": [
    "data['grade'] = LE.fit_transform(data['grade'])"
   ]
  },
  {
   "cell_type": "code",
   "execution_count": 21,
   "id": "6067d4fa",
   "metadata": {},
   "outputs": [],
   "source": [
    "data['home_ownership'] = LE.fit_transform(data['home_ownership'])"
   ]
  },
  {
   "cell_type": "code",
   "execution_count": 22,
   "id": "876a48a3",
   "metadata": {},
   "outputs": [
    {
     "data": {
      "text/plain": [
       "array(['Source Verified', 'Verified', 'Not Verified'], dtype=object)"
      ]
     },
     "execution_count": 22,
     "metadata": {},
     "output_type": "execute_result"
    }
   ],
   "source": [
    "data['verification_status'].unique()                                        # to check how much unique values are present"
   ]
  },
  {
   "cell_type": "code",
   "execution_count": 23,
   "id": "c0bf6c65",
   "metadata": {},
   "outputs": [],
   "source": [
    "data['application_type'] = LE.fit_transform(data['application_type'])"
   ]
  },
  {
   "cell_type": "code",
   "execution_count": 24,
   "id": "c0171fb5",
   "metadata": {},
   "outputs": [],
   "source": [
    "data['initial_list_status'] = LE.fit_transform(data['initial_list_status'])"
   ]
  },
  {
   "cell_type": "code",
   "execution_count": 25,
   "id": "fd68149e",
   "metadata": {},
   "outputs": [],
   "source": [
    "data['verification_status'] = LE.fit_transform(data['verification_status'])"
   ]
  },
  {
   "cell_type": "code",
   "execution_count": 26,
   "id": "67cb5e6f",
   "metadata": {},
   "outputs": [],
   "source": [
    "data['sub_grade'] = LE.fit_transform(data['sub_grade'])"
   ]
  },
  {
   "cell_type": "code",
   "execution_count": 27,
   "id": "f922829e",
   "metadata": {},
   "outputs": [],
   "source": [
    "data['loan_status']=data['loan_status'].map({'Paid':1,'Defaulted':0})"
   ]
  },
  {
   "cell_type": "code",
   "execution_count": 28,
   "id": "14a56532",
   "metadata": {},
   "outputs": [],
   "source": [
    "data['term'] = LE.fit_transform(data['term'])                              # 60 = 1 , 36 = 0"
   ]
  },
  {
   "cell_type": "code",
   "execution_count": 29,
   "id": "ee712528",
   "metadata": {},
   "outputs": [
    {
     "data": {
      "text/html": [
       "<div>\n",
       "<style scoped>\n",
       "    .dataframe tbody tr th:only-of-type {\n",
       "        vertical-align: middle;\n",
       "    }\n",
       "\n",
       "    .dataframe tbody tr th {\n",
       "        vertical-align: top;\n",
       "    }\n",
       "\n",
       "    .dataframe thead th {\n",
       "        text-align: right;\n",
       "    }\n",
       "</style>\n",
       "<table border=\"1\" class=\"dataframe\">\n",
       "  <thead>\n",
       "    <tr style=\"text-align: right;\">\n",
       "      <th></th>\n",
       "      <th>annual_inc</th>\n",
       "      <th>emp_length</th>\n",
       "      <th>fico_range_high</th>\n",
       "      <th>fico_range_low</th>\n",
       "      <th>grade</th>\n",
       "      <th>home_ownership</th>\n",
       "      <th>application_type</th>\n",
       "      <th>initial_list_status</th>\n",
       "      <th>int_rate</th>\n",
       "      <th>loan_amnt</th>\n",
       "      <th>num_actv_bc_tl</th>\n",
       "      <th>mort_acc</th>\n",
       "      <th>tot_cur_bal</th>\n",
       "      <th>open_acc</th>\n",
       "      <th>pub_rec</th>\n",
       "      <th>pub_rec_bankruptcies</th>\n",
       "      <th>revol_bal</th>\n",
       "      <th>revol_util</th>\n",
       "      <th>sub_grade</th>\n",
       "      <th>term</th>\n",
       "      <th>total_acc</th>\n",
       "      <th>verification_status</th>\n",
       "      <th>loan_status</th>\n",
       "    </tr>\n",
       "  </thead>\n",
       "  <tbody>\n",
       "    <tr>\n",
       "      <th>0</th>\n",
       "      <td>85000.0</td>\n",
       "      <td>10</td>\n",
       "      <td>744</td>\n",
       "      <td>740</td>\n",
       "      <td>4</td>\n",
       "      <td>1</td>\n",
       "      <td>0</td>\n",
       "      <td>1</td>\n",
       "      <td>18.99</td>\n",
       "      <td>18075</td>\n",
       "      <td>1.0</td>\n",
       "      <td>1.0</td>\n",
       "      <td>319479.0</td>\n",
       "      <td>7</td>\n",
       "      <td>0</td>\n",
       "      <td>0.0</td>\n",
       "      <td>5338</td>\n",
       "      <td>93.6</td>\n",
       "      <td>20</td>\n",
       "      <td>1</td>\n",
       "      <td>8</td>\n",
       "      <td>1</td>\n",
       "      <td>0</td>\n",
       "    </tr>\n",
       "  </tbody>\n",
       "</table>\n",
       "</div>"
      ],
      "text/plain": [
       "   annual_inc emp_length  fico_range_high  fico_range_low  grade  \\\n",
       "0     85000.0      10                 744             740      4   \n",
       "\n",
       "   home_ownership  application_type  initial_list_status  int_rate  loan_amnt  \\\n",
       "0               1                 0                    1     18.99      18075   \n",
       "\n",
       "   num_actv_bc_tl  mort_acc  tot_cur_bal  open_acc  pub_rec  \\\n",
       "0             1.0       1.0     319479.0         7        0   \n",
       "\n",
       "   pub_rec_bankruptcies  revol_bal  revol_util  sub_grade  term  total_acc  \\\n",
       "0                   0.0       5338        93.6         20     1          8   \n",
       "\n",
       "   verification_status  loan_status  \n",
       "0                    1            0  "
      ]
     },
     "execution_count": 29,
     "metadata": {},
     "output_type": "execute_result"
    }
   ],
   "source": [
    "data.head(1)"
   ]
  },
  {
   "cell_type": "code",
   "execution_count": 30,
   "id": "e9da9a48",
   "metadata": {},
   "outputs": [
    {
     "data": {
      "text/plain": [
       "annual_inc              float64\n",
       "emp_length               object\n",
       "fico_range_high           int64\n",
       "fico_range_low            int64\n",
       "grade                     int32\n",
       "home_ownership            int32\n",
       "application_type          int32\n",
       "initial_list_status       int32\n",
       "int_rate                float64\n",
       "loan_amnt                 int64\n",
       "num_actv_bc_tl          float64\n",
       "mort_acc                float64\n",
       "tot_cur_bal             float64\n",
       "open_acc                  int64\n",
       "pub_rec                   int64\n",
       "pub_rec_bankruptcies    float64\n",
       "revol_bal                 int64\n",
       "revol_util              float64\n",
       "sub_grade                 int32\n",
       "term                      int32\n",
       "total_acc                 int64\n",
       "verification_status       int32\n",
       "loan_status               int64\n",
       "dtype: object"
      ]
     },
     "execution_count": 30,
     "metadata": {},
     "output_type": "execute_result"
    }
   ],
   "source": [
    "data.dtypes"
   ]
  },
  {
   "cell_type": "markdown",
   "id": "5988551d",
   "metadata": {},
   "source": [
    "Handling the missing values"
   ]
  },
  {
   "cell_type": "code",
   "execution_count": 31,
   "id": "ad77d0b8",
   "metadata": {},
   "outputs": [
    {
     "data": {
      "text/plain": [
       "annual_inc                 0\n",
       "emp_length              4588\n",
       "fico_range_high            0\n",
       "fico_range_low             0\n",
       "grade                      0\n",
       "home_ownership             0\n",
       "application_type           0\n",
       "initial_list_status        0\n",
       "int_rate                   0\n",
       "loan_amnt                  0\n",
       "num_actv_bc_tl          3948\n",
       "mort_acc                2771\n",
       "tot_cur_bal             3948\n",
       "open_acc                   0\n",
       "pub_rec                    0\n",
       "pub_rec_bankruptcies      31\n",
       "revol_bal                  0\n",
       "revol_util                53\n",
       "sub_grade                  0\n",
       "term                       0\n",
       "total_acc                  0\n",
       "verification_status        0\n",
       "loan_status                0\n",
       "dtype: int64"
      ]
     },
     "execution_count": 31,
     "metadata": {},
     "output_type": "execute_result"
    }
   ],
   "source": [
    "data.isnull().sum()"
   ]
  },
  {
   "cell_type": "code",
   "execution_count": 32,
   "id": "29df980e",
   "metadata": {},
   "outputs": [
    {
     "data": {
      "text/plain": [
       "annual_inc              0.00000\n",
       "emp_length              5.73500\n",
       "fico_range_high         0.00000\n",
       "fico_range_low          0.00000\n",
       "grade                   0.00000\n",
       "home_ownership          0.00000\n",
       "application_type        0.00000\n",
       "initial_list_status     0.00000\n",
       "int_rate                0.00000\n",
       "loan_amnt               0.00000\n",
       "num_actv_bc_tl          4.93500\n",
       "mort_acc                3.46375\n",
       "tot_cur_bal             4.93500\n",
       "open_acc                0.00000\n",
       "pub_rec                 0.00000\n",
       "pub_rec_bankruptcies    0.03875\n",
       "revol_bal               0.00000\n",
       "revol_util              0.06625\n",
       "sub_grade               0.00000\n",
       "term                    0.00000\n",
       "total_acc               0.00000\n",
       "verification_status     0.00000\n",
       "loan_status             0.00000\n",
       "dtype: float64"
      ]
     },
     "execution_count": 32,
     "metadata": {},
     "output_type": "execute_result"
    }
   ],
   "source": [
    "data.isnull().sum()*100/len(data)                      # How much persentage of missing values are in each feature"
   ]
  },
  {
   "cell_type": "markdown",
   "id": "9e1508dd",
   "metadata": {},
   "source": [
    ": The rows which are having missing values less then 5% we are going to drop them ,\n",
    "Only emp_length  have misssing values more then 5% so we will fill them with mode method"
   ]
  },
  {
   "cell_type": "code",
   "execution_count": 33,
   "id": "956088d7",
   "metadata": {},
   "outputs": [],
   "source": [
    "columns = ['num_actv_bc_tl','mort_acc','tot_cur_bal','revol_util']"
   ]
  },
  {
   "cell_type": "code",
   "execution_count": 34,
   "id": "e180b3e9",
   "metadata": {},
   "outputs": [],
   "source": [
    "data = data.dropna(subset=columns)"
   ]
  },
  {
   "cell_type": "code",
   "execution_count": 35,
   "id": "fd614a08",
   "metadata": {},
   "outputs": [
    {
     "data": {
      "text/plain": [
       "'10   '"
      ]
     },
     "execution_count": 35,
     "metadata": {},
     "output_type": "execute_result"
    }
   ],
   "source": [
    "data['emp_length'].mode()[0]            # so 10 is most frequent value then we will fill the missing values with 10"
   ]
  },
  {
   "cell_type": "code",
   "execution_count": 36,
   "id": "93f23216",
   "metadata": {},
   "outputs": [
    {
     "name": "stderr",
     "output_type": "stream",
     "text": [
      "C:\\Users\\sanke\\AppData\\Local\\Temp\\ipykernel_268\\3510791836.py:1: SettingWithCopyWarning: \n",
      "A value is trying to be set on a copy of a slice from a DataFrame.\n",
      "Try using .loc[row_indexer,col_indexer] = value instead\n",
      "\n",
      "See the caveats in the documentation: https://pandas.pydata.org/pandas-docs/stable/user_guide/indexing.html#returning-a-view-versus-a-copy\n",
      "  data['emp_length'] = data['emp_length'].fillna(data['emp_length'].mode()[0])\n"
     ]
    }
   ],
   "source": [
    "data['emp_length'] = data['emp_length'].fillna(data['emp_length'].mode()[0])"
   ]
  },
  {
   "cell_type": "code",
   "execution_count": 37,
   "id": "f8f285a5",
   "metadata": {},
   "outputs": [
    {
     "data": {
      "text/plain": [
       "annual_inc              0\n",
       "emp_length              0\n",
       "fico_range_high         0\n",
       "fico_range_low          0\n",
       "grade                   0\n",
       "home_ownership          0\n",
       "application_type        0\n",
       "initial_list_status     0\n",
       "int_rate                0\n",
       "loan_amnt               0\n",
       "num_actv_bc_tl          0\n",
       "mort_acc                0\n",
       "tot_cur_bal             0\n",
       "open_acc                0\n",
       "pub_rec                 0\n",
       "pub_rec_bankruptcies    0\n",
       "revol_bal               0\n",
       "revol_util              0\n",
       "sub_grade               0\n",
       "term                    0\n",
       "total_acc               0\n",
       "verification_status     0\n",
       "loan_status             0\n",
       "dtype: int64"
      ]
     },
     "execution_count": 37,
     "metadata": {},
     "output_type": "execute_result"
    }
   ],
   "source": [
    "data.isnull().sum()            # now there no more missing values"
   ]
  },
  {
   "cell_type": "code",
   "execution_count": 38,
   "id": "8817b320",
   "metadata": {},
   "outputs": [
    {
     "data": {
      "text/plain": [
       "False"
      ]
     },
     "execution_count": 38,
     "metadata": {},
     "output_type": "execute_result"
    }
   ],
   "source": [
    "data.duplicated().any()    # there are no duplicated in our data set"
   ]
  },
  {
   "cell_type": "markdown",
   "id": "bad6141a",
   "metadata": {},
   "source": [
    "# Feature Scaling"
   ]
  },
  {
   "cell_type": "markdown",
   "id": "4217079e",
   "metadata": {},
   "source": [
    "There are some feature which are outliers from rest of the feature so for good accuracy they should be bring to an equal scale"
   ]
  },
  {
   "cell_type": "code",
   "execution_count": 39,
   "id": "a1102695",
   "metadata": {},
   "outputs": [],
   "source": [
    "from sklearn.preprocessing import StandardScaler        "
   ]
  },
  {
   "cell_type": "code",
   "execution_count": 40,
   "id": "194cea20",
   "metadata": {},
   "outputs": [],
   "source": [
    "sc = StandardScaler()"
   ]
  },
  {
   "cell_type": "code",
   "execution_count": 41,
   "id": "ad807748",
   "metadata": {},
   "outputs": [],
   "source": [
    "# living \tloan_status , term , application_type , initial_list_status every feature needs to scaling\n",
    "# this features does not need scaling"
   ]
  },
  {
   "cell_type": "code",
   "execution_count": null,
   "id": "20916d9c",
   "metadata": {},
   "outputs": [],
   "source": [
    "annual_inc emp_length fico_range_high fico_range_low grade home_ownership int_rate loan_amnt num_actv_bc_tl mort_acc tot_cur_bal \n",
    "open_acc pub_rec pub_rec_bankruptcies revol_bal revol_util sub_grade total_acc"
   ]
  },
  {
   "cell_type": "code",
   "execution_count": 42,
   "id": "5aa2450a",
   "metadata": {},
   "outputs": [
    {
     "name": "stderr",
     "output_type": "stream",
     "text": [
      "C:\\Users\\sanke\\AppData\\Local\\Temp\\ipykernel_268\\1543270664.py:1: SettingWithCopyWarning: \n",
      "A value is trying to be set on a copy of a slice from a DataFrame.\n",
      "Try using .loc[row_indexer,col_indexer] = value instead\n",
      "\n",
      "See the caveats in the documentation: https://pandas.pydata.org/pandas-docs/stable/user_guide/indexing.html#returning-a-view-versus-a-copy\n",
      "  data['annual_inc'] = sc.fit_transform(pd.DataFrame(data['annual_inc']))\n",
      "C:\\Users\\sanke\\AppData\\Local\\Temp\\ipykernel_268\\1543270664.py:2: SettingWithCopyWarning: \n",
      "A value is trying to be set on a copy of a slice from a DataFrame.\n",
      "Try using .loc[row_indexer,col_indexer] = value instead\n",
      "\n",
      "See the caveats in the documentation: https://pandas.pydata.org/pandas-docs/stable/user_guide/indexing.html#returning-a-view-versus-a-copy\n",
      "  data['emp_length'] = sc.fit_transform(pd.DataFrame(data['emp_length']))\n",
      "C:\\Users\\sanke\\AppData\\Local\\Temp\\ipykernel_268\\1543270664.py:3: SettingWithCopyWarning: \n",
      "A value is trying to be set on a copy of a slice from a DataFrame.\n",
      "Try using .loc[row_indexer,col_indexer] = value instead\n",
      "\n",
      "See the caveats in the documentation: https://pandas.pydata.org/pandas-docs/stable/user_guide/indexing.html#returning-a-view-versus-a-copy\n",
      "  data['fico_range_high'] = sc.fit_transform(pd.DataFrame(data['fico_range_high']))\n",
      "C:\\Users\\sanke\\AppData\\Local\\Temp\\ipykernel_268\\1543270664.py:4: SettingWithCopyWarning: \n",
      "A value is trying to be set on a copy of a slice from a DataFrame.\n",
      "Try using .loc[row_indexer,col_indexer] = value instead\n",
      "\n",
      "See the caveats in the documentation: https://pandas.pydata.org/pandas-docs/stable/user_guide/indexing.html#returning-a-view-versus-a-copy\n",
      "  data['fico_range_low'] = sc.fit_transform(pd.DataFrame(data['fico_range_low']))\n",
      "C:\\Users\\sanke\\AppData\\Local\\Temp\\ipykernel_268\\1543270664.py:5: SettingWithCopyWarning: \n",
      "A value is trying to be set on a copy of a slice from a DataFrame.\n",
      "Try using .loc[row_indexer,col_indexer] = value instead\n",
      "\n",
      "See the caveats in the documentation: https://pandas.pydata.org/pandas-docs/stable/user_guide/indexing.html#returning-a-view-versus-a-copy\n",
      "  data['grade'] = sc.fit_transform(pd.DataFrame(data['grade']))\n",
      "C:\\Users\\sanke\\AppData\\Local\\Temp\\ipykernel_268\\1543270664.py:6: SettingWithCopyWarning: \n",
      "A value is trying to be set on a copy of a slice from a DataFrame.\n",
      "Try using .loc[row_indexer,col_indexer] = value instead\n",
      "\n",
      "See the caveats in the documentation: https://pandas.pydata.org/pandas-docs/stable/user_guide/indexing.html#returning-a-view-versus-a-copy\n",
      "  data['home_ownership'] = sc.fit_transform(pd.DataFrame(data['home_ownership']))\n",
      "C:\\Users\\sanke\\AppData\\Local\\Temp\\ipykernel_268\\1543270664.py:7: SettingWithCopyWarning: \n",
      "A value is trying to be set on a copy of a slice from a DataFrame.\n",
      "Try using .loc[row_indexer,col_indexer] = value instead\n",
      "\n",
      "See the caveats in the documentation: https://pandas.pydata.org/pandas-docs/stable/user_guide/indexing.html#returning-a-view-versus-a-copy\n",
      "  data['int_rate'] = sc.fit_transform(pd.DataFrame(data['int_rate']))\n",
      "C:\\Users\\sanke\\AppData\\Local\\Temp\\ipykernel_268\\1543270664.py:8: SettingWithCopyWarning: \n",
      "A value is trying to be set on a copy of a slice from a DataFrame.\n",
      "Try using .loc[row_indexer,col_indexer] = value instead\n",
      "\n",
      "See the caveats in the documentation: https://pandas.pydata.org/pandas-docs/stable/user_guide/indexing.html#returning-a-view-versus-a-copy\n",
      "  data['loan_amnt'] = sc.fit_transform(pd.DataFrame(data['loan_amnt']))\n",
      "C:\\Users\\sanke\\AppData\\Local\\Temp\\ipykernel_268\\1543270664.py:9: SettingWithCopyWarning: \n",
      "A value is trying to be set on a copy of a slice from a DataFrame.\n",
      "Try using .loc[row_indexer,col_indexer] = value instead\n",
      "\n",
      "See the caveats in the documentation: https://pandas.pydata.org/pandas-docs/stable/user_guide/indexing.html#returning-a-view-versus-a-copy\n",
      "  data['num_actv_bc_tl'] = sc.fit_transform(pd.DataFrame(data['num_actv_bc_tl']))\n",
      "C:\\Users\\sanke\\AppData\\Local\\Temp\\ipykernel_268\\1543270664.py:10: SettingWithCopyWarning: \n",
      "A value is trying to be set on a copy of a slice from a DataFrame.\n",
      "Try using .loc[row_indexer,col_indexer] = value instead\n",
      "\n",
      "See the caveats in the documentation: https://pandas.pydata.org/pandas-docs/stable/user_guide/indexing.html#returning-a-view-versus-a-copy\n",
      "  data['mort_acc'] = sc.fit_transform(pd.DataFrame(data['mort_acc']))\n",
      "C:\\Users\\sanke\\AppData\\Local\\Temp\\ipykernel_268\\1543270664.py:11: SettingWithCopyWarning: \n",
      "A value is trying to be set on a copy of a slice from a DataFrame.\n",
      "Try using .loc[row_indexer,col_indexer] = value instead\n",
      "\n",
      "See the caveats in the documentation: https://pandas.pydata.org/pandas-docs/stable/user_guide/indexing.html#returning-a-view-versus-a-copy\n",
      "  data['tot_cur_bal'] = sc.fit_transform(pd.DataFrame(data['tot_cur_bal']))\n",
      "C:\\Users\\sanke\\AppData\\Local\\Temp\\ipykernel_268\\1543270664.py:12: SettingWithCopyWarning: \n",
      "A value is trying to be set on a copy of a slice from a DataFrame.\n",
      "Try using .loc[row_indexer,col_indexer] = value instead\n",
      "\n",
      "See the caveats in the documentation: https://pandas.pydata.org/pandas-docs/stable/user_guide/indexing.html#returning-a-view-versus-a-copy\n",
      "  data['open_acc'] = sc.fit_transform(pd.DataFrame(data['open_acc']))\n",
      "C:\\Users\\sanke\\AppData\\Local\\Temp\\ipykernel_268\\1543270664.py:13: SettingWithCopyWarning: \n",
      "A value is trying to be set on a copy of a slice from a DataFrame.\n",
      "Try using .loc[row_indexer,col_indexer] = value instead\n",
      "\n",
      "See the caveats in the documentation: https://pandas.pydata.org/pandas-docs/stable/user_guide/indexing.html#returning-a-view-versus-a-copy\n",
      "  data['pub_rec'] = sc.fit_transform(pd.DataFrame(data['pub_rec']))\n",
      "C:\\Users\\sanke\\AppData\\Local\\Temp\\ipykernel_268\\1543270664.py:14: SettingWithCopyWarning: \n",
      "A value is trying to be set on a copy of a slice from a DataFrame.\n",
      "Try using .loc[row_indexer,col_indexer] = value instead\n",
      "\n",
      "See the caveats in the documentation: https://pandas.pydata.org/pandas-docs/stable/user_guide/indexing.html#returning-a-view-versus-a-copy\n",
      "  data['pub_rec_bankruptcies'] = sc.fit_transform(pd.DataFrame(data['pub_rec_bankruptcies']))\n",
      "C:\\Users\\sanke\\AppData\\Local\\Temp\\ipykernel_268\\1543270664.py:15: SettingWithCopyWarning: \n",
      "A value is trying to be set on a copy of a slice from a DataFrame.\n",
      "Try using .loc[row_indexer,col_indexer] = value instead\n",
      "\n",
      "See the caveats in the documentation: https://pandas.pydata.org/pandas-docs/stable/user_guide/indexing.html#returning-a-view-versus-a-copy\n",
      "  data['revol_bal'] = sc.fit_transform(pd.DataFrame(data['revol_bal']))\n",
      "C:\\Users\\sanke\\AppData\\Local\\Temp\\ipykernel_268\\1543270664.py:16: SettingWithCopyWarning: \n",
      "A value is trying to be set on a copy of a slice from a DataFrame.\n",
      "Try using .loc[row_indexer,col_indexer] = value instead\n",
      "\n",
      "See the caveats in the documentation: https://pandas.pydata.org/pandas-docs/stable/user_guide/indexing.html#returning-a-view-versus-a-copy\n",
      "  data['revol_util'] = sc.fit_transform(pd.DataFrame(data['revol_util']))\n",
      "C:\\Users\\sanke\\AppData\\Local\\Temp\\ipykernel_268\\1543270664.py:17: SettingWithCopyWarning: \n",
      "A value is trying to be set on a copy of a slice from a DataFrame.\n",
      "Try using .loc[row_indexer,col_indexer] = value instead\n",
      "\n",
      "See the caveats in the documentation: https://pandas.pydata.org/pandas-docs/stable/user_guide/indexing.html#returning-a-view-versus-a-copy\n",
      "  data['sub_grade'] = sc.fit_transform(pd.DataFrame(data['sub_grade']))\n",
      "C:\\Users\\sanke\\AppData\\Local\\Temp\\ipykernel_268\\1543270664.py:18: SettingWithCopyWarning: \n",
      "A value is trying to be set on a copy of a slice from a DataFrame.\n",
      "Try using .loc[row_indexer,col_indexer] = value instead\n",
      "\n",
      "See the caveats in the documentation: https://pandas.pydata.org/pandas-docs/stable/user_guide/indexing.html#returning-a-view-versus-a-copy\n",
      "  data['total_acc'] = sc.fit_transform(pd.DataFrame(data['total_acc']))\n"
     ]
    }
   ],
   "source": [
    "data['annual_inc'] = sc.fit_transform(pd.DataFrame(data['annual_inc']))\n",
    "data['emp_length'] = sc.fit_transform(pd.DataFrame(data['emp_length']))\n",
    "data['fico_range_high'] = sc.fit_transform(pd.DataFrame(data['fico_range_high']))\n",
    "data['fico_range_low'] = sc.fit_transform(pd.DataFrame(data['fico_range_low']))\n",
    "data['grade'] = sc.fit_transform(pd.DataFrame(data['grade']))\n",
    "data['home_ownership'] = sc.fit_transform(pd.DataFrame(data['home_ownership']))\n",
    "data['int_rate'] = sc.fit_transform(pd.DataFrame(data['int_rate']))\n",
    "data['loan_amnt'] = sc.fit_transform(pd.DataFrame(data['loan_amnt']))\n",
    "data['num_actv_bc_tl'] = sc.fit_transform(pd.DataFrame(data['num_actv_bc_tl']))\n",
    "data['mort_acc'] = sc.fit_transform(pd.DataFrame(data['mort_acc']))\n",
    "data['tot_cur_bal'] = sc.fit_transform(pd.DataFrame(data['tot_cur_bal']))\n",
    "data['open_acc'] = sc.fit_transform(pd.DataFrame(data['open_acc']))\n",
    "data['pub_rec'] = sc.fit_transform(pd.DataFrame(data['pub_rec']))\n",
    "data['pub_rec_bankruptcies'] = sc.fit_transform(pd.DataFrame(data['pub_rec_bankruptcies']))\n",
    "data['revol_bal'] = sc.fit_transform(pd.DataFrame(data['revol_bal']))\n",
    "data['revol_util'] = sc.fit_transform(pd.DataFrame(data['revol_util']))\n",
    "data['sub_grade'] = sc.fit_transform(pd.DataFrame(data['sub_grade']))\n",
    "data['total_acc'] = sc.fit_transform(pd.DataFrame(data['total_acc']))"
   ]
  },
  {
   "cell_type": "code",
   "execution_count": 43,
   "id": "9f8bbf8a",
   "metadata": {},
   "outputs": [
    {
     "data": {
      "text/html": [
       "<div>\n",
       "<style scoped>\n",
       "    .dataframe tbody tr th:only-of-type {\n",
       "        vertical-align: middle;\n",
       "    }\n",
       "\n",
       "    .dataframe tbody tr th {\n",
       "        vertical-align: top;\n",
       "    }\n",
       "\n",
       "    .dataframe thead th {\n",
       "        text-align: right;\n",
       "    }\n",
       "</style>\n",
       "<table border=\"1\" class=\"dataframe\">\n",
       "  <thead>\n",
       "    <tr style=\"text-align: right;\">\n",
       "      <th></th>\n",
       "      <th>annual_inc</th>\n",
       "      <th>emp_length</th>\n",
       "      <th>fico_range_high</th>\n",
       "      <th>fico_range_low</th>\n",
       "      <th>grade</th>\n",
       "      <th>home_ownership</th>\n",
       "      <th>application_type</th>\n",
       "      <th>initial_list_status</th>\n",
       "      <th>int_rate</th>\n",
       "      <th>loan_amnt</th>\n",
       "      <th>num_actv_bc_tl</th>\n",
       "      <th>mort_acc</th>\n",
       "      <th>tot_cur_bal</th>\n",
       "      <th>open_acc</th>\n",
       "      <th>pub_rec</th>\n",
       "      <th>pub_rec_bankruptcies</th>\n",
       "      <th>revol_bal</th>\n",
       "      <th>revol_util</th>\n",
       "      <th>sub_grade</th>\n",
       "      <th>term</th>\n",
       "      <th>total_acc</th>\n",
       "      <th>verification_status</th>\n",
       "      <th>loan_status</th>\n",
       "    </tr>\n",
       "  </thead>\n",
       "  <tbody>\n",
       "    <tr>\n",
       "      <th>0</th>\n",
       "      <td>0.121717</td>\n",
       "      <td>1.016835</td>\n",
       "      <td>1.428520</td>\n",
       "      <td>1.428563</td>\n",
       "      <td>1.742009</td>\n",
       "      <td>-0.990837</td>\n",
       "      <td>0</td>\n",
       "      <td>1</td>\n",
       "      <td>1.192239</td>\n",
       "      <td>0.407194</td>\n",
       "      <td>-1.165583</td>\n",
       "      <td>-0.337993</td>\n",
       "      <td>1.116721</td>\n",
       "      <td>-0.852697</td>\n",
       "      <td>-0.381446</td>\n",
       "      <td>-0.364829</td>\n",
       "      <td>-0.482592</td>\n",
       "      <td>1.713875</td>\n",
       "      <td>1.441559</td>\n",
       "      <td>1</td>\n",
       "      <td>-1.425550</td>\n",
       "      <td>1</td>\n",
       "      <td>0</td>\n",
       "    </tr>\n",
       "    <tr>\n",
       "      <th>1</th>\n",
       "      <td>-0.520647</td>\n",
       "      <td>1.016835</td>\n",
       "      <td>0.790647</td>\n",
       "      <td>0.790673</td>\n",
       "      <td>-0.582511</td>\n",
       "      <td>1.099904</td>\n",
       "      <td>0</td>\n",
       "      <td>1</td>\n",
       "      <td>-0.647128</td>\n",
       "      <td>-0.655422</td>\n",
       "      <td>0.160985</td>\n",
       "      <td>-0.837419</td>\n",
       "      <td>-0.763255</td>\n",
       "      <td>-1.215547</td>\n",
       "      <td>-0.381446</td>\n",
       "      <td>-0.364829</td>\n",
       "      <td>0.153279</td>\n",
       "      <td>0.345647</td>\n",
       "      <td>-0.889776</td>\n",
       "      <td>0</td>\n",
       "      <td>-1.093335</td>\n",
       "      <td>2</td>\n",
       "      <td>1</td>\n",
       "    </tr>\n",
       "    <tr>\n",
       "      <th>2</th>\n",
       "      <td>-0.235152</td>\n",
       "      <td>1.016835</td>\n",
       "      <td>-0.644567</td>\n",
       "      <td>-0.644579</td>\n",
       "      <td>-0.582511</td>\n",
       "      <td>-0.990837</td>\n",
       "      <td>0</td>\n",
       "      <td>1</td>\n",
       "      <td>-0.374243</td>\n",
       "      <td>0.398602</td>\n",
       "      <td>0.160985</td>\n",
       "      <td>0.161433</td>\n",
       "      <td>-0.742826</td>\n",
       "      <td>-0.852697</td>\n",
       "      <td>-0.381446</td>\n",
       "      <td>-0.364829</td>\n",
       "      <td>0.294985</td>\n",
       "      <td>1.504326</td>\n",
       "      <td>-0.268086</td>\n",
       "      <td>0</td>\n",
       "      <td>-0.761119</td>\n",
       "      <td>1</td>\n",
       "      <td>1</td>\n",
       "    </tr>\n",
       "    <tr>\n",
       "      <th>3</th>\n",
       "      <td>0.346430</td>\n",
       "      <td>1.016835</td>\n",
       "      <td>-1.122972</td>\n",
       "      <td>-1.122996</td>\n",
       "      <td>-0.582511</td>\n",
       "      <td>-0.990837</td>\n",
       "      <td>0</td>\n",
       "      <td>1</td>\n",
       "      <td>-0.855437</td>\n",
       "      <td>0.627737</td>\n",
       "      <td>0.160985</td>\n",
       "      <td>-0.337993</td>\n",
       "      <td>-0.432449</td>\n",
       "      <td>0.054428</td>\n",
       "      <td>-0.381446</td>\n",
       "      <td>-0.364829</td>\n",
       "      <td>0.087149</td>\n",
       "      <td>0.703112</td>\n",
       "      <td>-0.734353</td>\n",
       "      <td>0</td>\n",
       "      <td>-0.511957</td>\n",
       "      <td>1</td>\n",
       "      <td>1</td>\n",
       "    </tr>\n",
       "    <tr>\n",
       "      <th>4</th>\n",
       "      <td>0.050343</td>\n",
       "      <td>1.016835</td>\n",
       "      <td>-0.963504</td>\n",
       "      <td>-0.963523</td>\n",
       "      <td>2.516848</td>\n",
       "      <td>1.099904</td>\n",
       "      <td>0</td>\n",
       "      <td>0</td>\n",
       "      <td>2.200453</td>\n",
       "      <td>2.346254</td>\n",
       "      <td>4.582879</td>\n",
       "      <td>2.658566</td>\n",
       "      <td>-0.482785</td>\n",
       "      <td>2.050102</td>\n",
       "      <td>-0.381446</td>\n",
       "      <td>-0.364829</td>\n",
       "      <td>0.781313</td>\n",
       "      <td>1.565958</td>\n",
       "      <td>2.840360</td>\n",
       "      <td>1</td>\n",
       "      <td>2.810199</td>\n",
       "      <td>2</td>\n",
       "      <td>1</td>\n",
       "    </tr>\n",
       "    <tr>\n",
       "      <th>...</th>\n",
       "      <td>...</td>\n",
       "      <td>...</td>\n",
       "      <td>...</td>\n",
       "      <td>...</td>\n",
       "      <td>...</td>\n",
       "      <td>...</td>\n",
       "      <td>...</td>\n",
       "      <td>...</td>\n",
       "      <td>...</td>\n",
       "      <td>...</td>\n",
       "      <td>...</td>\n",
       "      <td>...</td>\n",
       "      <td>...</td>\n",
       "      <td>...</td>\n",
       "      <td>...</td>\n",
       "      <td>...</td>\n",
       "      <td>...</td>\n",
       "      <td>...</td>\n",
       "      <td>...</td>\n",
       "      <td>...</td>\n",
       "      <td>...</td>\n",
       "      <td>...</td>\n",
       "      <td>...</td>\n",
       "    </tr>\n",
       "    <tr>\n",
       "      <th>79995</th>\n",
       "      <td>0.064618</td>\n",
       "      <td>1.016835</td>\n",
       "      <td>-1.122972</td>\n",
       "      <td>-1.122996</td>\n",
       "      <td>3.291688</td>\n",
       "      <td>-0.990837</td>\n",
       "      <td>0</td>\n",
       "      <td>1</td>\n",
       "      <td>2.629569</td>\n",
       "      <td>1.297959</td>\n",
       "      <td>0.603174</td>\n",
       "      <td>1.160286</td>\n",
       "      <td>0.495629</td>\n",
       "      <td>0.054428</td>\n",
       "      <td>-0.381446</td>\n",
       "      <td>-0.364829</td>\n",
       "      <td>0.164467</td>\n",
       "      <td>1.709766</td>\n",
       "      <td>3.306627</td>\n",
       "      <td>1</td>\n",
       "      <td>1.398282</td>\n",
       "      <td>2</td>\n",
       "      <td>0</td>\n",
       "    </tr>\n",
       "    <tr>\n",
       "      <th>79996</th>\n",
       "      <td>-0.449273</td>\n",
       "      <td>1.016835</td>\n",
       "      <td>-0.485099</td>\n",
       "      <td>-0.485106</td>\n",
       "      <td>0.192329</td>\n",
       "      <td>-0.990837</td>\n",
       "      <td>0</td>\n",
       "      <td>1</td>\n",
       "      <td>-0.203430</td>\n",
       "      <td>-0.864509</td>\n",
       "      <td>-0.723394</td>\n",
       "      <td>0.161433</td>\n",
       "      <td>0.654169</td>\n",
       "      <td>-0.852697</td>\n",
       "      <td>-0.381446</td>\n",
       "      <td>-0.364829</td>\n",
       "      <td>-0.447459</td>\n",
       "      <td>0.205949</td>\n",
       "      <td>-0.112664</td>\n",
       "      <td>0</td>\n",
       "      <td>-0.927227</td>\n",
       "      <td>0</td>\n",
       "      <td>1</td>\n",
       "    </tr>\n",
       "    <tr>\n",
       "      <th>79997</th>\n",
       "      <td>0.193090</td>\n",
       "      <td>-1.689043</td>\n",
       "      <td>0.790647</td>\n",
       "      <td>0.790673</td>\n",
       "      <td>-0.582511</td>\n",
       "      <td>0.577219</td>\n",
       "      <td>0</td>\n",
       "      <td>1</td>\n",
       "      <td>-0.474231</td>\n",
       "      <td>-0.861644</td>\n",
       "      <td>-1.165583</td>\n",
       "      <td>0.660860</td>\n",
       "      <td>1.510842</td>\n",
       "      <td>-0.489847</td>\n",
       "      <td>-0.381446</td>\n",
       "      <td>-0.364829</td>\n",
       "      <td>-0.544760</td>\n",
       "      <td>-1.080103</td>\n",
       "      <td>-0.423509</td>\n",
       "      <td>0</td>\n",
       "      <td>0.069420</td>\n",
       "      <td>1</td>\n",
       "      <td>1</td>\n",
       "    </tr>\n",
       "    <tr>\n",
       "      <th>79998</th>\n",
       "      <td>0.250189</td>\n",
       "      <td>-0.877280</td>\n",
       "      <td>-0.963504</td>\n",
       "      <td>-0.963523</td>\n",
       "      <td>0.967169</td>\n",
       "      <td>-0.990837</td>\n",
       "      <td>0</td>\n",
       "      <td>1</td>\n",
       "      <td>1.292227</td>\n",
       "      <td>0.398602</td>\n",
       "      <td>-0.281204</td>\n",
       "      <td>0.660860</td>\n",
       "      <td>0.378388</td>\n",
       "      <td>0.780128</td>\n",
       "      <td>1.309355</td>\n",
       "      <td>2.200078</td>\n",
       "      <td>-0.197047</td>\n",
       "      <td>-0.102211</td>\n",
       "      <td>1.286137</td>\n",
       "      <td>1</td>\n",
       "      <td>1.896606</td>\n",
       "      <td>1</td>\n",
       "      <td>1</td>\n",
       "    </tr>\n",
       "    <tr>\n",
       "      <th>79999</th>\n",
       "      <td>14.610579</td>\n",
       "      <td>-1.147868</td>\n",
       "      <td>-1.122972</td>\n",
       "      <td>-1.122996</td>\n",
       "      <td>-0.582511</td>\n",
       "      <td>-0.990837</td>\n",
       "      <td>0</td>\n",
       "      <td>1</td>\n",
       "      <td>-0.517976</td>\n",
       "      <td>0.627737</td>\n",
       "      <td>0.160985</td>\n",
       "      <td>0.161433</td>\n",
       "      <td>18.234094</td>\n",
       "      <td>0.235853</td>\n",
       "      <td>-0.381446</td>\n",
       "      <td>-0.364829</td>\n",
       "      <td>24.807731</td>\n",
       "      <td>1.841247</td>\n",
       "      <td>-0.423509</td>\n",
       "      <td>0</td>\n",
       "      <td>0.567743</td>\n",
       "      <td>1</td>\n",
       "      <td>1</td>\n",
       "    </tr>\n",
       "  </tbody>\n",
       "</table>\n",
       "<p>76006 rows × 23 columns</p>\n",
       "</div>"
      ],
      "text/plain": [
       "       annual_inc  emp_length  fico_range_high  fico_range_low     grade  \\\n",
       "0        0.121717    1.016835         1.428520        1.428563  1.742009   \n",
       "1       -0.520647    1.016835         0.790647        0.790673 -0.582511   \n",
       "2       -0.235152    1.016835        -0.644567       -0.644579 -0.582511   \n",
       "3        0.346430    1.016835        -1.122972       -1.122996 -0.582511   \n",
       "4        0.050343    1.016835        -0.963504       -0.963523  2.516848   \n",
       "...           ...         ...              ...             ...       ...   \n",
       "79995    0.064618    1.016835        -1.122972       -1.122996  3.291688   \n",
       "79996   -0.449273    1.016835        -0.485099       -0.485106  0.192329   \n",
       "79997    0.193090   -1.689043         0.790647        0.790673 -0.582511   \n",
       "79998    0.250189   -0.877280        -0.963504       -0.963523  0.967169   \n",
       "79999   14.610579   -1.147868        -1.122972       -1.122996 -0.582511   \n",
       "\n",
       "       home_ownership  application_type  initial_list_status  int_rate  \\\n",
       "0           -0.990837                 0                    1  1.192239   \n",
       "1            1.099904                 0                    1 -0.647128   \n",
       "2           -0.990837                 0                    1 -0.374243   \n",
       "3           -0.990837                 0                    1 -0.855437   \n",
       "4            1.099904                 0                    0  2.200453   \n",
       "...               ...               ...                  ...       ...   \n",
       "79995       -0.990837                 0                    1  2.629569   \n",
       "79996       -0.990837                 0                    1 -0.203430   \n",
       "79997        0.577219                 0                    1 -0.474231   \n",
       "79998       -0.990837                 0                    1  1.292227   \n",
       "79999       -0.990837                 0                    1 -0.517976   \n",
       "\n",
       "       loan_amnt  num_actv_bc_tl  mort_acc  tot_cur_bal  open_acc   pub_rec  \\\n",
       "0       0.407194       -1.165583 -0.337993     1.116721 -0.852697 -0.381446   \n",
       "1      -0.655422        0.160985 -0.837419    -0.763255 -1.215547 -0.381446   \n",
       "2       0.398602        0.160985  0.161433    -0.742826 -0.852697 -0.381446   \n",
       "3       0.627737        0.160985 -0.337993    -0.432449  0.054428 -0.381446   \n",
       "4       2.346254        4.582879  2.658566    -0.482785  2.050102 -0.381446   \n",
       "...          ...             ...       ...          ...       ...       ...   \n",
       "79995   1.297959        0.603174  1.160286     0.495629  0.054428 -0.381446   \n",
       "79996  -0.864509       -0.723394  0.161433     0.654169 -0.852697 -0.381446   \n",
       "79997  -0.861644       -1.165583  0.660860     1.510842 -0.489847 -0.381446   \n",
       "79998   0.398602       -0.281204  0.660860     0.378388  0.780128  1.309355   \n",
       "79999   0.627737        0.160985  0.161433    18.234094  0.235853 -0.381446   \n",
       "\n",
       "       pub_rec_bankruptcies  revol_bal  revol_util  sub_grade  term  \\\n",
       "0                 -0.364829  -0.482592    1.713875   1.441559     1   \n",
       "1                 -0.364829   0.153279    0.345647  -0.889776     0   \n",
       "2                 -0.364829   0.294985    1.504326  -0.268086     0   \n",
       "3                 -0.364829   0.087149    0.703112  -0.734353     0   \n",
       "4                 -0.364829   0.781313    1.565958   2.840360     1   \n",
       "...                     ...        ...         ...        ...   ...   \n",
       "79995             -0.364829   0.164467    1.709766   3.306627     1   \n",
       "79996             -0.364829  -0.447459    0.205949  -0.112664     0   \n",
       "79997             -0.364829  -0.544760   -1.080103  -0.423509     0   \n",
       "79998              2.200078  -0.197047   -0.102211   1.286137     1   \n",
       "79999             -0.364829  24.807731    1.841247  -0.423509     0   \n",
       "\n",
       "       total_acc  verification_status  loan_status  \n",
       "0      -1.425550                    1            0  \n",
       "1      -1.093335                    2            1  \n",
       "2      -0.761119                    1            1  \n",
       "3      -0.511957                    1            1  \n",
       "4       2.810199                    2            1  \n",
       "...          ...                  ...          ...  \n",
       "79995   1.398282                    2            0  \n",
       "79996  -0.927227                    0            1  \n",
       "79997   0.069420                    1            1  \n",
       "79998   1.896606                    1            1  \n",
       "79999   0.567743                    1            1  \n",
       "\n",
       "[76006 rows x 23 columns]"
      ]
     },
     "execution_count": 43,
     "metadata": {},
     "output_type": "execute_result"
    }
   ],
   "source": [
    "data"
   ]
  },
  {
   "cell_type": "markdown",
   "id": "61b78c40",
   "metadata": {},
   "source": [
    "This dataset consist of more then 70 thounsand entries so it is time consuming\n",
    "Therefore instead of training the whole data we take an sample of 1000 rows of both paid and default status"
   ]
  },
  {
   "cell_type": "code",
   "execution_count": 44,
   "id": "668908e4",
   "metadata": {},
   "outputs": [],
   "source": [
    "Paid = data[data['loan_status']==1]\n",
    "Defaulted = data[data['loan_status']==0]"
   ]
  },
  {
   "cell_type": "code",
   "execution_count": 117,
   "id": "3806b4cb",
   "metadata": {},
   "outputs": [
    {
     "data": {
      "text/plain": [
       "(60638, 23)"
      ]
     },
     "execution_count": 117,
     "metadata": {},
     "output_type": "execute_result"
    }
   ],
   "source": [
    "Paid.shape"
   ]
  },
  {
   "cell_type": "code",
   "execution_count": 46,
   "id": "dcefcf6a",
   "metadata": {},
   "outputs": [
    {
     "data": {
      "text/plain": [
       "(15368, 23)"
      ]
     },
     "execution_count": 46,
     "metadata": {},
     "output_type": "execute_result"
    }
   ],
   "source": [
    "Defaulted.shape"
   ]
  },
  {
   "cell_type": "code",
   "execution_count": 47,
   "id": "fafe1d50",
   "metadata": {},
   "outputs": [],
   "source": [
    "Paid_1000 = Paid.sample(n=1000)                       #1000 sample of paid status"
   ]
  },
  {
   "cell_type": "code",
   "execution_count": 48,
   "id": "e0e13e5d",
   "metadata": {},
   "outputs": [],
   "source": [
    "Defaulted_1000 = Defaulted.sample(n=1000)                  #1000 sample of default status"
   ]
  },
  {
   "cell_type": "code",
   "execution_count": 49,
   "id": "6280d055",
   "metadata": {},
   "outputs": [],
   "source": [
    "new_data = pd.concat([Paid_1000,Defaulted_1000],ignore_index = True)"
   ]
  },
  {
   "cell_type": "code",
   "execution_count": 50,
   "id": "d9abba3e",
   "metadata": {},
   "outputs": [
    {
     "data": {
      "text/plain": [
       "(2000, 23)"
      ]
     },
     "execution_count": 50,
     "metadata": {},
     "output_type": "execute_result"
    }
   ],
   "source": [
    "new_data.shape"
   ]
  },
  {
   "cell_type": "markdown",
   "id": "45184078",
   "metadata": {},
   "source": [
    "# Spliting the data into train & test sets\n"
   ]
  },
  {
   "cell_type": "markdown",
   "id": "0656e01f",
   "metadata": {},
   "source": [
    "spliting the data in x and y in x consist of independent features and y contains dependent"
   ]
  },
  {
   "cell_type": "code",
   "execution_count": 51,
   "id": "c92c3c37",
   "metadata": {},
   "outputs": [],
   "source": [
    "X = new_data.drop('loan_status',axis = 1)\n",
    "y =new_data['loan_status']"
   ]
  },
  {
   "cell_type": "code",
   "execution_count": 52,
   "id": "ac10ba10",
   "metadata": {},
   "outputs": [
    {
     "data": {
      "text/plain": [
       "(2000, 22)"
      ]
     },
     "execution_count": 52,
     "metadata": {},
     "output_type": "execute_result"
    }
   ],
   "source": [
    "X.shape"
   ]
  },
  {
   "cell_type": "code",
   "execution_count": 53,
   "id": "69ba1ad5",
   "metadata": {},
   "outputs": [
    {
     "data": {
      "text/plain": [
       "(2000,)"
      ]
     },
     "execution_count": 53,
     "metadata": {},
     "output_type": "execute_result"
    }
   ],
   "source": [
    "y.shape"
   ]
  },
  {
   "cell_type": "code",
   "execution_count": 54,
   "id": "2a25b16f",
   "metadata": {},
   "outputs": [],
   "source": [
    "from sklearn.model_selection import train_test_split\n",
    "from sklearn.model_selection import cross_val_score\n",
    "import numpy as np\n",
    "from sklearn.metrics import accuracy_score"
   ]
  },
  {
   "cell_type": "code",
   "execution_count": 55,
   "id": "4f442d5e",
   "metadata": {},
   "outputs": [],
   "source": [
    "# calling a function so that we can train multiply model and repeting the same process agian and again"
   ]
  },
  {
   "cell_type": "code",
   "execution_count": 56,
   "id": "6cb07ca8",
   "metadata": {},
   "outputs": [],
   "source": [
    "model_df={}\n",
    "def model_val(model, X,y):\n",
    "    X_train,X_test,y_train,y_test=train_test_split(X,y,\n",
    "                                                     test_size=0.20,\n",
    "                                                     random_state = 42)\n",
    "    model.fit(X_train,y_train)\n",
    "    y_pred=model.predict(X_test)\n",
    "    print(f\"{model} accuracy is {accuracy_score(y_test,y_pred)}\")\n",
    "\n",
    "    score =cross_val_score(model,X,y,cv=5)\n",
    "    print(f\"{model} Avg cross val score is {np.mean(score)}\")\n",
    "    model_df[model]=round(np.mean(score) *100,2)"
   ]
  },
  {
   "cell_type": "markdown",
   "id": "aa68971d",
   "metadata": {},
   "source": [
    "# LogisticRegression"
   ]
  },
  {
   "cell_type": "code",
   "execution_count": 57,
   "id": "9e79fd8b",
   "metadata": {},
   "outputs": [],
   "source": [
    "from sklearn.linear_model import LogisticRegression"
   ]
  },
  {
   "cell_type": "code",
   "execution_count": 58,
   "id": "8fd69009",
   "metadata": {},
   "outputs": [],
   "source": [
    "model = LogisticRegression()"
   ]
  },
  {
   "cell_type": "code",
   "execution_count": 59,
   "id": "59e72daa",
   "metadata": {},
   "outputs": [
    {
     "name": "stdout",
     "output_type": "stream",
     "text": [
      "LogisticRegression() accuracy is 0.6775\n",
      "LogisticRegression() Avg cross val score is 0.6665\n"
     ]
    }
   ],
   "source": [
    "model_val(model,X,y)"
   ]
  },
  {
   "cell_type": "markdown",
   "id": "da7fa8f2",
   "metadata": {},
   "source": [
    "# DecisionTreeClassifier"
   ]
  },
  {
   "cell_type": "code",
   "execution_count": 60,
   "id": "7cd1a9b3",
   "metadata": {},
   "outputs": [],
   "source": [
    "from sklearn.tree import DecisionTreeClassifier"
   ]
  },
  {
   "cell_type": "code",
   "execution_count": 61,
   "id": "1b7f8eb0",
   "metadata": {},
   "outputs": [],
   "source": [
    "model = DecisionTreeClassifier()"
   ]
  },
  {
   "cell_type": "code",
   "execution_count": 62,
   "id": "700be994",
   "metadata": {},
   "outputs": [
    {
     "name": "stdout",
     "output_type": "stream",
     "text": [
      "DecisionTreeClassifier() accuracy is 0.5425\n",
      "DecisionTreeClassifier() Avg cross val score is 0.5594999999999999\n"
     ]
    }
   ],
   "source": [
    "model_val(model,X,y)"
   ]
  },
  {
   "cell_type": "markdown",
   "id": "da6ca1b9",
   "metadata": {},
   "source": [
    "# RandomForestClassifier"
   ]
  },
  {
   "cell_type": "code",
   "execution_count": 63,
   "id": "0ef9cbed",
   "metadata": {},
   "outputs": [],
   "source": [
    "from sklearn.ensemble import RandomForestClassifier"
   ]
  },
  {
   "cell_type": "code",
   "execution_count": 64,
   "id": "098b02d3",
   "metadata": {},
   "outputs": [],
   "source": [
    "model = RandomForestClassifier()"
   ]
  },
  {
   "cell_type": "code",
   "execution_count": 65,
   "id": "4976c949",
   "metadata": {},
   "outputs": [
    {
     "name": "stdout",
     "output_type": "stream",
     "text": [
      "RandomForestClassifier() accuracy is 0.6475\n",
      "RandomForestClassifier() Avg cross val score is 0.639\n"
     ]
    }
   ],
   "source": [
    "model_val(model,X,y)"
   ]
  },
  {
   "cell_type": "markdown",
   "id": "9ae76207",
   "metadata": {},
   "source": [
    "# GradientBoostingClassifier"
   ]
  },
  {
   "cell_type": "code",
   "execution_count": 66,
   "id": "45435034",
   "metadata": {},
   "outputs": [],
   "source": [
    "from sklearn.ensemble import GradientBoostingClassifier"
   ]
  },
  {
   "cell_type": "code",
   "execution_count": 67,
   "id": "920290c5",
   "metadata": {},
   "outputs": [],
   "source": [
    "model = GradientBoostingClassifier()"
   ]
  },
  {
   "cell_type": "code",
   "execution_count": 68,
   "id": "10b17015",
   "metadata": {},
   "outputs": [
    {
     "name": "stdout",
     "output_type": "stream",
     "text": [
      "GradientBoostingClassifier() accuracy is 0.66\n",
      "GradientBoostingClassifier() Avg cross val score is 0.643\n"
     ]
    }
   ],
   "source": [
    "model_val(model,X,y)"
   ]
  },
  {
   "cell_type": "markdown",
   "id": "a3865ae3",
   "metadata": {},
   "source": [
    "# SVC"
   ]
  },
  {
   "cell_type": "code",
   "execution_count": 69,
   "id": "c78306cd",
   "metadata": {},
   "outputs": [],
   "source": [
    "from sklearn.svm import SVC"
   ]
  },
  {
   "cell_type": "code",
   "execution_count": 70,
   "id": "3da948b4",
   "metadata": {},
   "outputs": [],
   "source": [
    "model = SVC()"
   ]
  },
  {
   "cell_type": "code",
   "execution_count": 71,
   "id": "c69d74a6",
   "metadata": {},
   "outputs": [
    {
     "name": "stdout",
     "output_type": "stream",
     "text": [
      "SVC() accuracy is 0.6725\n",
      "SVC() Avg cross val score is 0.6545\n"
     ]
    }
   ],
   "source": [
    "model_val(model,X,y)"
   ]
  },
  {
   "cell_type": "code",
   "execution_count": 72,
   "id": "21e379a4",
   "metadata": {},
   "outputs": [
    {
     "data": {
      "text/plain": [
       "{LogisticRegression(): 66.65,\n",
       " DecisionTreeClassifier(): 55.95,\n",
       " RandomForestClassifier(): 63.9,\n",
       " GradientBoostingClassifier(): 64.3,\n",
       " SVC(): 65.45}"
      ]
     },
     "execution_count": 72,
     "metadata": {},
     "output_type": "execute_result"
    }
   ],
   "source": [
    "model_df"
   ]
  },
  {
   "cell_type": "markdown",
   "id": "33b2c999",
   "metadata": {},
   "source": [
    "LogisticRegression has the most accuracy with 66.65% in all of the methods , so we will do the tuning with logisticregression"
   ]
  },
  {
   "cell_type": "markdown",
   "id": "0a093e6f",
   "metadata": {},
   "source": [
    "# Hyperparameter Tuning "
   ]
  },
  {
   "cell_type": "code",
   "execution_count": 73,
   "id": "acd8a05a",
   "metadata": {},
   "outputs": [],
   "source": [
    "import numpy as np\n",
    "from sklearn.model_selection import RandomizedSearchCV\n",
    "from sklearn.model_selection import GridSearchCV"
   ]
  },
  {
   "cell_type": "code",
   "execution_count": 74,
   "id": "bda3ac03",
   "metadata": {},
   "outputs": [],
   "source": [
    "hyper_logReg = {'C':np.logspace(-4,4,20),\n",
    "             'solver':['liblinear']}"
   ]
  },
  {
   "cell_type": "code",
   "execution_count": 75,
   "id": "df7ee4dc",
   "metadata": {},
   "outputs": [],
   "source": [
    "rs_hyper_log = GridSearchCV(LogisticRegression(),                          # GridseearchCV will try every input combination\n",
    "                                 param_grid=hyper_logReg, \n",
    "                                 n_jobs=20,cv=5,verbose=True)"
   ]
  },
  {
   "cell_type": "code",
   "execution_count": 76,
   "id": "08c89af0",
   "metadata": {},
   "outputs": [
    {
     "name": "stdout",
     "output_type": "stream",
     "text": [
      "Fitting 5 folds for each of 20 candidates, totalling 100 fits\n"
     ]
    },
    {
     "data": {
      "text/html": [
       "<style>#sk-container-id-1 {\n",
       "  /* Definition of color scheme common for light and dark mode */\n",
       "  --sklearn-color-text: black;\n",
       "  --sklearn-color-line: gray;\n",
       "  /* Definition of color scheme for unfitted estimators */\n",
       "  --sklearn-color-unfitted-level-0: #fff5e6;\n",
       "  --sklearn-color-unfitted-level-1: #f6e4d2;\n",
       "  --sklearn-color-unfitted-level-2: #ffe0b3;\n",
       "  --sklearn-color-unfitted-level-3: chocolate;\n",
       "  /* Definition of color scheme for fitted estimators */\n",
       "  --sklearn-color-fitted-level-0: #f0f8ff;\n",
       "  --sklearn-color-fitted-level-1: #d4ebff;\n",
       "  --sklearn-color-fitted-level-2: #b3dbfd;\n",
       "  --sklearn-color-fitted-level-3: cornflowerblue;\n",
       "\n",
       "  /* Specific color for light theme */\n",
       "  --sklearn-color-text-on-default-background: var(--sg-text-color, var(--theme-code-foreground, var(--jp-content-font-color1, black)));\n",
       "  --sklearn-color-background: var(--sg-background-color, var(--theme-background, var(--jp-layout-color0, white)));\n",
       "  --sklearn-color-border-box: var(--sg-text-color, var(--theme-code-foreground, var(--jp-content-font-color1, black)));\n",
       "  --sklearn-color-icon: #696969;\n",
       "\n",
       "  @media (prefers-color-scheme: dark) {\n",
       "    /* Redefinition of color scheme for dark theme */\n",
       "    --sklearn-color-text-on-default-background: var(--sg-text-color, var(--theme-code-foreground, var(--jp-content-font-color1, white)));\n",
       "    --sklearn-color-background: var(--sg-background-color, var(--theme-background, var(--jp-layout-color0, #111)));\n",
       "    --sklearn-color-border-box: var(--sg-text-color, var(--theme-code-foreground, var(--jp-content-font-color1, white)));\n",
       "    --sklearn-color-icon: #878787;\n",
       "  }\n",
       "}\n",
       "\n",
       "#sk-container-id-1 {\n",
       "  color: var(--sklearn-color-text);\n",
       "}\n",
       "\n",
       "#sk-container-id-1 pre {\n",
       "  padding: 0;\n",
       "}\n",
       "\n",
       "#sk-container-id-1 input.sk-hidden--visually {\n",
       "  border: 0;\n",
       "  clip: rect(1px 1px 1px 1px);\n",
       "  clip: rect(1px, 1px, 1px, 1px);\n",
       "  height: 1px;\n",
       "  margin: -1px;\n",
       "  overflow: hidden;\n",
       "  padding: 0;\n",
       "  position: absolute;\n",
       "  width: 1px;\n",
       "}\n",
       "\n",
       "#sk-container-id-1 div.sk-dashed-wrapped {\n",
       "  border: 1px dashed var(--sklearn-color-line);\n",
       "  margin: 0 0.4em 0.5em 0.4em;\n",
       "  box-sizing: border-box;\n",
       "  padding-bottom: 0.4em;\n",
       "  background-color: var(--sklearn-color-background);\n",
       "}\n",
       "\n",
       "#sk-container-id-1 div.sk-container {\n",
       "  /* jupyter's `normalize.less` sets `[hidden] { display: none; }`\n",
       "     but bootstrap.min.css set `[hidden] { display: none !important; }`\n",
       "     so we also need the `!important` here to be able to override the\n",
       "     default hidden behavior on the sphinx rendered scikit-learn.org.\n",
       "     See: https://github.com/scikit-learn/scikit-learn/issues/21755 */\n",
       "  display: inline-block !important;\n",
       "  position: relative;\n",
       "}\n",
       "\n",
       "#sk-container-id-1 div.sk-text-repr-fallback {\n",
       "  display: none;\n",
       "}\n",
       "\n",
       "div.sk-parallel-item,\n",
       "div.sk-serial,\n",
       "div.sk-item {\n",
       "  /* draw centered vertical line to link estimators */\n",
       "  background-image: linear-gradient(var(--sklearn-color-text-on-default-background), var(--sklearn-color-text-on-default-background));\n",
       "  background-size: 2px 100%;\n",
       "  background-repeat: no-repeat;\n",
       "  background-position: center center;\n",
       "}\n",
       "\n",
       "/* Parallel-specific style estimator block */\n",
       "\n",
       "#sk-container-id-1 div.sk-parallel-item::after {\n",
       "  content: \"\";\n",
       "  width: 100%;\n",
       "  border-bottom: 2px solid var(--sklearn-color-text-on-default-background);\n",
       "  flex-grow: 1;\n",
       "}\n",
       "\n",
       "#sk-container-id-1 div.sk-parallel {\n",
       "  display: flex;\n",
       "  align-items: stretch;\n",
       "  justify-content: center;\n",
       "  background-color: var(--sklearn-color-background);\n",
       "  position: relative;\n",
       "}\n",
       "\n",
       "#sk-container-id-1 div.sk-parallel-item {\n",
       "  display: flex;\n",
       "  flex-direction: column;\n",
       "}\n",
       "\n",
       "#sk-container-id-1 div.sk-parallel-item:first-child::after {\n",
       "  align-self: flex-end;\n",
       "  width: 50%;\n",
       "}\n",
       "\n",
       "#sk-container-id-1 div.sk-parallel-item:last-child::after {\n",
       "  align-self: flex-start;\n",
       "  width: 50%;\n",
       "}\n",
       "\n",
       "#sk-container-id-1 div.sk-parallel-item:only-child::after {\n",
       "  width: 0;\n",
       "}\n",
       "\n",
       "/* Serial-specific style estimator block */\n",
       "\n",
       "#sk-container-id-1 div.sk-serial {\n",
       "  display: flex;\n",
       "  flex-direction: column;\n",
       "  align-items: center;\n",
       "  background-color: var(--sklearn-color-background);\n",
       "  padding-right: 1em;\n",
       "  padding-left: 1em;\n",
       "}\n",
       "\n",
       "\n",
       "/* Toggleable style: style used for estimator/Pipeline/ColumnTransformer box that is\n",
       "clickable and can be expanded/collapsed.\n",
       "- Pipeline and ColumnTransformer use this feature and define the default style\n",
       "- Estimators will overwrite some part of the style using the `sk-estimator` class\n",
       "*/\n",
       "\n",
       "/* Pipeline and ColumnTransformer style (default) */\n",
       "\n",
       "#sk-container-id-1 div.sk-toggleable {\n",
       "  /* Default theme specific background. It is overwritten whether we have a\n",
       "  specific estimator or a Pipeline/ColumnTransformer */\n",
       "  background-color: var(--sklearn-color-background);\n",
       "}\n",
       "\n",
       "/* Toggleable label */\n",
       "#sk-container-id-1 label.sk-toggleable__label {\n",
       "  cursor: pointer;\n",
       "  display: block;\n",
       "  width: 100%;\n",
       "  margin-bottom: 0;\n",
       "  padding: 0.5em;\n",
       "  box-sizing: border-box;\n",
       "  text-align: center;\n",
       "}\n",
       "\n",
       "#sk-container-id-1 label.sk-toggleable__label-arrow:before {\n",
       "  /* Arrow on the left of the label */\n",
       "  content: \"▸\";\n",
       "  float: left;\n",
       "  margin-right: 0.25em;\n",
       "  color: var(--sklearn-color-icon);\n",
       "}\n",
       "\n",
       "#sk-container-id-1 label.sk-toggleable__label-arrow:hover:before {\n",
       "  color: var(--sklearn-color-text);\n",
       "}\n",
       "\n",
       "/* Toggleable content - dropdown */\n",
       "\n",
       "#sk-container-id-1 div.sk-toggleable__content {\n",
       "  max-height: 0;\n",
       "  max-width: 0;\n",
       "  overflow: hidden;\n",
       "  text-align: left;\n",
       "  /* unfitted */\n",
       "  background-color: var(--sklearn-color-unfitted-level-0);\n",
       "}\n",
       "\n",
       "#sk-container-id-1 div.sk-toggleable__content.fitted {\n",
       "  /* fitted */\n",
       "  background-color: var(--sklearn-color-fitted-level-0);\n",
       "}\n",
       "\n",
       "#sk-container-id-1 div.sk-toggleable__content pre {\n",
       "  margin: 0.2em;\n",
       "  border-radius: 0.25em;\n",
       "  color: var(--sklearn-color-text);\n",
       "  /* unfitted */\n",
       "  background-color: var(--sklearn-color-unfitted-level-0);\n",
       "}\n",
       "\n",
       "#sk-container-id-1 div.sk-toggleable__content.fitted pre {\n",
       "  /* unfitted */\n",
       "  background-color: var(--sklearn-color-fitted-level-0);\n",
       "}\n",
       "\n",
       "#sk-container-id-1 input.sk-toggleable__control:checked~div.sk-toggleable__content {\n",
       "  /* Expand drop-down */\n",
       "  max-height: 200px;\n",
       "  max-width: 100%;\n",
       "  overflow: auto;\n",
       "}\n",
       "\n",
       "#sk-container-id-1 input.sk-toggleable__control:checked~label.sk-toggleable__label-arrow:before {\n",
       "  content: \"▾\";\n",
       "}\n",
       "\n",
       "/* Pipeline/ColumnTransformer-specific style */\n",
       "\n",
       "#sk-container-id-1 div.sk-label input.sk-toggleable__control:checked~label.sk-toggleable__label {\n",
       "  color: var(--sklearn-color-text);\n",
       "  background-color: var(--sklearn-color-unfitted-level-2);\n",
       "}\n",
       "\n",
       "#sk-container-id-1 div.sk-label.fitted input.sk-toggleable__control:checked~label.sk-toggleable__label {\n",
       "  background-color: var(--sklearn-color-fitted-level-2);\n",
       "}\n",
       "\n",
       "/* Estimator-specific style */\n",
       "\n",
       "/* Colorize estimator box */\n",
       "#sk-container-id-1 div.sk-estimator input.sk-toggleable__control:checked~label.sk-toggleable__label {\n",
       "  /* unfitted */\n",
       "  background-color: var(--sklearn-color-unfitted-level-2);\n",
       "}\n",
       "\n",
       "#sk-container-id-1 div.sk-estimator.fitted input.sk-toggleable__control:checked~label.sk-toggleable__label {\n",
       "  /* fitted */\n",
       "  background-color: var(--sklearn-color-fitted-level-2);\n",
       "}\n",
       "\n",
       "#sk-container-id-1 div.sk-label label.sk-toggleable__label,\n",
       "#sk-container-id-1 div.sk-label label {\n",
       "  /* The background is the default theme color */\n",
       "  color: var(--sklearn-color-text-on-default-background);\n",
       "}\n",
       "\n",
       "/* On hover, darken the color of the background */\n",
       "#sk-container-id-1 div.sk-label:hover label.sk-toggleable__label {\n",
       "  color: var(--sklearn-color-text);\n",
       "  background-color: var(--sklearn-color-unfitted-level-2);\n",
       "}\n",
       "\n",
       "/* Label box, darken color on hover, fitted */\n",
       "#sk-container-id-1 div.sk-label.fitted:hover label.sk-toggleable__label.fitted {\n",
       "  color: var(--sklearn-color-text);\n",
       "  background-color: var(--sklearn-color-fitted-level-2);\n",
       "}\n",
       "\n",
       "/* Estimator label */\n",
       "\n",
       "#sk-container-id-1 div.sk-label label {\n",
       "  font-family: monospace;\n",
       "  font-weight: bold;\n",
       "  display: inline-block;\n",
       "  line-height: 1.2em;\n",
       "}\n",
       "\n",
       "#sk-container-id-1 div.sk-label-container {\n",
       "  text-align: center;\n",
       "}\n",
       "\n",
       "/* Estimator-specific */\n",
       "#sk-container-id-1 div.sk-estimator {\n",
       "  font-family: monospace;\n",
       "  border: 1px dotted var(--sklearn-color-border-box);\n",
       "  border-radius: 0.25em;\n",
       "  box-sizing: border-box;\n",
       "  margin-bottom: 0.5em;\n",
       "  /* unfitted */\n",
       "  background-color: var(--sklearn-color-unfitted-level-0);\n",
       "}\n",
       "\n",
       "#sk-container-id-1 div.sk-estimator.fitted {\n",
       "  /* fitted */\n",
       "  background-color: var(--sklearn-color-fitted-level-0);\n",
       "}\n",
       "\n",
       "/* on hover */\n",
       "#sk-container-id-1 div.sk-estimator:hover {\n",
       "  /* unfitted */\n",
       "  background-color: var(--sklearn-color-unfitted-level-2);\n",
       "}\n",
       "\n",
       "#sk-container-id-1 div.sk-estimator.fitted:hover {\n",
       "  /* fitted */\n",
       "  background-color: var(--sklearn-color-fitted-level-2);\n",
       "}\n",
       "\n",
       "/* Specification for estimator info (e.g. \"i\" and \"?\") */\n",
       "\n",
       "/* Common style for \"i\" and \"?\" */\n",
       "\n",
       ".sk-estimator-doc-link,\n",
       "a:link.sk-estimator-doc-link,\n",
       "a:visited.sk-estimator-doc-link {\n",
       "  float: right;\n",
       "  font-size: smaller;\n",
       "  line-height: 1em;\n",
       "  font-family: monospace;\n",
       "  background-color: var(--sklearn-color-background);\n",
       "  border-radius: 1em;\n",
       "  height: 1em;\n",
       "  width: 1em;\n",
       "  text-decoration: none !important;\n",
       "  margin-left: 1ex;\n",
       "  /* unfitted */\n",
       "  border: var(--sklearn-color-unfitted-level-1) 1pt solid;\n",
       "  color: var(--sklearn-color-unfitted-level-1);\n",
       "}\n",
       "\n",
       ".sk-estimator-doc-link.fitted,\n",
       "a:link.sk-estimator-doc-link.fitted,\n",
       "a:visited.sk-estimator-doc-link.fitted {\n",
       "  /* fitted */\n",
       "  border: var(--sklearn-color-fitted-level-1) 1pt solid;\n",
       "  color: var(--sklearn-color-fitted-level-1);\n",
       "}\n",
       "\n",
       "/* On hover */\n",
       "div.sk-estimator:hover .sk-estimator-doc-link:hover,\n",
       ".sk-estimator-doc-link:hover,\n",
       "div.sk-label-container:hover .sk-estimator-doc-link:hover,\n",
       ".sk-estimator-doc-link:hover {\n",
       "  /* unfitted */\n",
       "  background-color: var(--sklearn-color-unfitted-level-3);\n",
       "  color: var(--sklearn-color-background);\n",
       "  text-decoration: none;\n",
       "}\n",
       "\n",
       "div.sk-estimator.fitted:hover .sk-estimator-doc-link.fitted:hover,\n",
       ".sk-estimator-doc-link.fitted:hover,\n",
       "div.sk-label-container:hover .sk-estimator-doc-link.fitted:hover,\n",
       ".sk-estimator-doc-link.fitted:hover {\n",
       "  /* fitted */\n",
       "  background-color: var(--sklearn-color-fitted-level-3);\n",
       "  color: var(--sklearn-color-background);\n",
       "  text-decoration: none;\n",
       "}\n",
       "\n",
       "/* Span, style for the box shown on hovering the info icon */\n",
       ".sk-estimator-doc-link span {\n",
       "  display: none;\n",
       "  z-index: 9999;\n",
       "  position: relative;\n",
       "  font-weight: normal;\n",
       "  right: .2ex;\n",
       "  padding: .5ex;\n",
       "  margin: .5ex;\n",
       "  width: min-content;\n",
       "  min-width: 20ex;\n",
       "  max-width: 50ex;\n",
       "  color: var(--sklearn-color-text);\n",
       "  box-shadow: 2pt 2pt 4pt #999;\n",
       "  /* unfitted */\n",
       "  background: var(--sklearn-color-unfitted-level-0);\n",
       "  border: .5pt solid var(--sklearn-color-unfitted-level-3);\n",
       "}\n",
       "\n",
       ".sk-estimator-doc-link.fitted span {\n",
       "  /* fitted */\n",
       "  background: var(--sklearn-color-fitted-level-0);\n",
       "  border: var(--sklearn-color-fitted-level-3);\n",
       "}\n",
       "\n",
       ".sk-estimator-doc-link:hover span {\n",
       "  display: block;\n",
       "}\n",
       "\n",
       "/* \"?\"-specific style due to the `<a>` HTML tag */\n",
       "\n",
       "#sk-container-id-1 a.estimator_doc_link {\n",
       "  float: right;\n",
       "  font-size: 1rem;\n",
       "  line-height: 1em;\n",
       "  font-family: monospace;\n",
       "  background-color: var(--sklearn-color-background);\n",
       "  border-radius: 1rem;\n",
       "  height: 1rem;\n",
       "  width: 1rem;\n",
       "  text-decoration: none;\n",
       "  /* unfitted */\n",
       "  color: var(--sklearn-color-unfitted-level-1);\n",
       "  border: var(--sklearn-color-unfitted-level-1) 1pt solid;\n",
       "}\n",
       "\n",
       "#sk-container-id-1 a.estimator_doc_link.fitted {\n",
       "  /* fitted */\n",
       "  border: var(--sklearn-color-fitted-level-1) 1pt solid;\n",
       "  color: var(--sklearn-color-fitted-level-1);\n",
       "}\n",
       "\n",
       "/* On hover */\n",
       "#sk-container-id-1 a.estimator_doc_link:hover {\n",
       "  /* unfitted */\n",
       "  background-color: var(--sklearn-color-unfitted-level-3);\n",
       "  color: var(--sklearn-color-background);\n",
       "  text-decoration: none;\n",
       "}\n",
       "\n",
       "#sk-container-id-1 a.estimator_doc_link.fitted:hover {\n",
       "  /* fitted */\n",
       "  background-color: var(--sklearn-color-fitted-level-3);\n",
       "}\n",
       "</style><div id=\"sk-container-id-1\" class=\"sk-top-container\"><div class=\"sk-text-repr-fallback\"><pre>GridSearchCV(cv=5, estimator=LogisticRegression(), n_jobs=20,\n",
       "             param_grid={&#x27;C&#x27;: array([1.00000000e-04, 2.63665090e-04, 6.95192796e-04, 1.83298071e-03,\n",
       "       4.83293024e-03, 1.27427499e-02, 3.35981829e-02, 8.85866790e-02,\n",
       "       2.33572147e-01, 6.15848211e-01, 1.62377674e+00, 4.28133240e+00,\n",
       "       1.12883789e+01, 2.97635144e+01, 7.84759970e+01, 2.06913808e+02,\n",
       "       5.45559478e+02, 1.43844989e+03, 3.79269019e+03, 1.00000000e+04]),\n",
       "                         &#x27;solver&#x27;: [&#x27;liblinear&#x27;]},\n",
       "             verbose=True)</pre><b>In a Jupyter environment, please rerun this cell to show the HTML representation or trust the notebook. <br />On GitHub, the HTML representation is unable to render, please try loading this page with nbviewer.org.</b></div><div class=\"sk-container\" hidden><div class=\"sk-item sk-dashed-wrapped\"><div class=\"sk-label-container\"><div class=\"sk-label fitted sk-toggleable\"><input class=\"sk-toggleable__control sk-hidden--visually\" id=\"sk-estimator-id-1\" type=\"checkbox\" ><label for=\"sk-estimator-id-1\" class=\"sk-toggleable__label fitted sk-toggleable__label-arrow fitted\">&nbsp;&nbsp;GridSearchCV<a class=\"sk-estimator-doc-link fitted\" rel=\"noreferrer\" target=\"_blank\" href=\"https://scikit-learn.org/1.4/modules/generated/sklearn.model_selection.GridSearchCV.html\">?<span>Documentation for GridSearchCV</span></a><span class=\"sk-estimator-doc-link fitted\">i<span>Fitted</span></span></label><div class=\"sk-toggleable__content fitted\"><pre>GridSearchCV(cv=5, estimator=LogisticRegression(), n_jobs=20,\n",
       "             param_grid={&#x27;C&#x27;: array([1.00000000e-04, 2.63665090e-04, 6.95192796e-04, 1.83298071e-03,\n",
       "       4.83293024e-03, 1.27427499e-02, 3.35981829e-02, 8.85866790e-02,\n",
       "       2.33572147e-01, 6.15848211e-01, 1.62377674e+00, 4.28133240e+00,\n",
       "       1.12883789e+01, 2.97635144e+01, 7.84759970e+01, 2.06913808e+02,\n",
       "       5.45559478e+02, 1.43844989e+03, 3.79269019e+03, 1.00000000e+04]),\n",
       "                         &#x27;solver&#x27;: [&#x27;liblinear&#x27;]},\n",
       "             verbose=True)</pre></div> </div></div><div class=\"sk-parallel\"><div class=\"sk-parallel-item\"><div class=\"sk-item\"><div class=\"sk-label-container\"><div class=\"sk-label fitted sk-toggleable\"><input class=\"sk-toggleable__control sk-hidden--visually\" id=\"sk-estimator-id-2\" type=\"checkbox\" ><label for=\"sk-estimator-id-2\" class=\"sk-toggleable__label fitted sk-toggleable__label-arrow fitted\">estimator: LogisticRegression</label><div class=\"sk-toggleable__content fitted\"><pre>LogisticRegression()</pre></div> </div></div><div class=\"sk-serial\"><div class=\"sk-item\"><div class=\"sk-estimator fitted sk-toggleable\"><input class=\"sk-toggleable__control sk-hidden--visually\" id=\"sk-estimator-id-3\" type=\"checkbox\" ><label for=\"sk-estimator-id-3\" class=\"sk-toggleable__label fitted sk-toggleable__label-arrow fitted\">&nbsp;LogisticRegression<a class=\"sk-estimator-doc-link fitted\" rel=\"noreferrer\" target=\"_blank\" href=\"https://scikit-learn.org/1.4/modules/generated/sklearn.linear_model.LogisticRegression.html\">?<span>Documentation for LogisticRegression</span></a></label><div class=\"sk-toggleable__content fitted\"><pre>LogisticRegression()</pre></div> </div></div></div></div></div></div></div></div></div>"
      ],
      "text/plain": [
       "GridSearchCV(cv=5, estimator=LogisticRegression(), n_jobs=20,\n",
       "             param_grid={'C': array([1.00000000e-04, 2.63665090e-04, 6.95192796e-04, 1.83298071e-03,\n",
       "       4.83293024e-03, 1.27427499e-02, 3.35981829e-02, 8.85866790e-02,\n",
       "       2.33572147e-01, 6.15848211e-01, 1.62377674e+00, 4.28133240e+00,\n",
       "       1.12883789e+01, 2.97635144e+01, 7.84759970e+01, 2.06913808e+02,\n",
       "       5.45559478e+02, 1.43844989e+03, 3.79269019e+03, 1.00000000e+04]),\n",
       "                         'solver': ['liblinear']},\n",
       "             verbose=True)"
      ]
     },
     "execution_count": 76,
     "metadata": {},
     "output_type": "execute_result"
    }
   ],
   "source": [
    "rs_hyper_log.fit(X,y)"
   ]
  },
  {
   "cell_type": "code",
   "execution_count": 77,
   "id": "7f096c59",
   "metadata": {},
   "outputs": [
    {
     "data": {
      "text/plain": [
       "0.667"
      ]
     },
     "execution_count": 77,
     "metadata": {},
     "output_type": "execute_result"
    }
   ],
   "source": [
    "rs_hyper_log.best_score_"
   ]
  },
  {
   "cell_type": "code",
   "execution_count": 78,
   "id": "2db1c886",
   "metadata": {},
   "outputs": [
    {
     "data": {
      "text/plain": [
       "{'C': 1.623776739188721, 'solver': 'liblinear'}"
      ]
     },
     "execution_count": 78,
     "metadata": {},
     "output_type": "execute_result"
    }
   ],
   "source": [
    "rs_hyper_log.best_params_"
   ]
  },
  {
   "cell_type": "markdown",
   "id": "14f189e5",
   "metadata": {},
   "source": [
    "'C': 1.623776739188721, 'solver': 'liblinear' are the best parameters . Therefore we will try are data again with this parameters"
   ]
  },
  {
   "cell_type": "markdown",
   "id": "a7ce78c5",
   "metadata": {},
   "source": [
    " # Model Improvement:"
   ]
  },
  {
   "cell_type": "code",
   "execution_count": 79,
   "id": "c94e30d6",
   "metadata": {},
   "outputs": [],
   "source": [
    "from sklearn.linear_model import LogisticRegression"
   ]
  },
  {
   "cell_type": "code",
   "execution_count": 110,
   "id": "321fd9e1",
   "metadata": {},
   "outputs": [],
   "source": [
    "model = LogisticRegression(solver = 'liblinear', C= 1.623776739188721)"
   ]
  },
  {
   "cell_type": "code",
   "execution_count": 111,
   "id": "c4b202db",
   "metadata": {},
   "outputs": [
    {
     "name": "stdout",
     "output_type": "stream",
     "text": [
      "LogisticRegression(C=1.623776739188721, solver='liblinear') accuracy is 0.675\n",
      "LogisticRegression(C=1.623776739188721, solver='liblinear') Avg cross val score is 0.667\n"
     ]
    }
   ],
   "source": [
    "model_val(model,X,y)"
   ]
  },
  {
   "cell_type": "markdown",
   "id": "167bf565",
   "metadata": {},
   "source": [
    "The final score of our model after tuning is 67.5%"
   ]
  },
  {
   "cell_type": "markdown",
   "id": "6e995cd0",
   "metadata": {},
   "source": [
    "# Test the model with the test_data csv"
   ]
  },
  {
   "cell_type": "code",
   "execution_count": 82,
   "id": "24b75fac",
   "metadata": {},
   "outputs": [],
   "source": [
    "test_data = pd.read_csv(r'test_loan_data (1).csv')"
   ]
  },
  {
   "cell_type": "code",
   "execution_count": 83,
   "id": "39770916",
   "metadata": {},
   "outputs": [
    {
     "data": {
      "text/html": [
       "<div>\n",
       "<style scoped>\n",
       "    .dataframe tbody tr th:only-of-type {\n",
       "        vertical-align: middle;\n",
       "    }\n",
       "\n",
       "    .dataframe tbody tr th {\n",
       "        vertical-align: top;\n",
       "    }\n",
       "\n",
       "    .dataframe thead th {\n",
       "        text-align: right;\n",
       "    }\n",
       "</style>\n",
       "<table border=\"1\" class=\"dataframe\">\n",
       "  <thead>\n",
       "    <tr style=\"text-align: right;\">\n",
       "      <th></th>\n",
       "      <th>addr_state</th>\n",
       "      <th>annual_inc</th>\n",
       "      <th>earliest_cr_line</th>\n",
       "      <th>emp_length</th>\n",
       "      <th>emp_title</th>\n",
       "      <th>fico_range_high</th>\n",
       "      <th>fico_range_low</th>\n",
       "      <th>grade</th>\n",
       "      <th>home_ownership</th>\n",
       "      <th>application_type</th>\n",
       "      <th>initial_list_status</th>\n",
       "      <th>int_rate</th>\n",
       "      <th>loan_amnt</th>\n",
       "      <th>num_actv_bc_tl</th>\n",
       "      <th>mort_acc</th>\n",
       "      <th>tot_cur_bal</th>\n",
       "      <th>open_acc</th>\n",
       "      <th>pub_rec</th>\n",
       "      <th>pub_rec_bankruptcies</th>\n",
       "      <th>purpose</th>\n",
       "      <th>revol_bal</th>\n",
       "      <th>revol_util</th>\n",
       "      <th>sub_grade</th>\n",
       "      <th>term</th>\n",
       "      <th>title</th>\n",
       "      <th>total_acc</th>\n",
       "      <th>verification_status</th>\n",
       "    </tr>\n",
       "  </thead>\n",
       "  <tbody>\n",
       "    <tr>\n",
       "      <th>0</th>\n",
       "      <td>MO</td>\n",
       "      <td>50000.0</td>\n",
       "      <td>May-2012</td>\n",
       "      <td>1 year</td>\n",
       "      <td>Tower technician</td>\n",
       "      <td>719.0</td>\n",
       "      <td>715.0</td>\n",
       "      <td>C</td>\n",
       "      <td>OWN</td>\n",
       "      <td>Individual</td>\n",
       "      <td>f</td>\n",
       "      <td>13.99</td>\n",
       "      <td>5000.0</td>\n",
       "      <td>1.0</td>\n",
       "      <td>0.0</td>\n",
       "      <td>33395.0</td>\n",
       "      <td>9.0</td>\n",
       "      <td>0.0</td>\n",
       "      <td>0.0</td>\n",
       "      <td>debt_consolidation</td>\n",
       "      <td>2568.0</td>\n",
       "      <td>9.8</td>\n",
       "      <td>C4</td>\n",
       "      <td>36 months</td>\n",
       "      <td>Debt consolidation</td>\n",
       "      <td>11.0</td>\n",
       "      <td>Source Verified</td>\n",
       "    </tr>\n",
       "  </tbody>\n",
       "</table>\n",
       "</div>"
      ],
      "text/plain": [
       "  addr_state  annual_inc earliest_cr_line emp_length         emp_title  \\\n",
       "0         MO     50000.0         May-2012     1 year  Tower technician   \n",
       "\n",
       "   fico_range_high  fico_range_low grade home_ownership application_type  \\\n",
       "0            719.0           715.0     C            OWN       Individual   \n",
       "\n",
       "  initial_list_status  int_rate  loan_amnt  num_actv_bc_tl  mort_acc  \\\n",
       "0                   f     13.99     5000.0             1.0       0.0   \n",
       "\n",
       "   tot_cur_bal  open_acc  pub_rec  pub_rec_bankruptcies             purpose  \\\n",
       "0      33395.0       9.0      0.0                   0.0  debt_consolidation   \n",
       "\n",
       "   revol_bal  revol_util sub_grade        term               title  total_acc  \\\n",
       "0     2568.0         9.8        C4   36 months  Debt consolidation       11.0   \n",
       "\n",
       "  verification_status  \n",
       "0     Source Verified  "
      ]
     },
     "execution_count": 83,
     "metadata": {},
     "output_type": "execute_result"
    }
   ],
   "source": [
    "test_data.head(1)"
   ]
  },
  {
   "cell_type": "markdown",
   "id": "d1967285",
   "metadata": {},
   "source": [
    "the same feature selection , feature engineering , feature scaling should be done to the test data for good accuracy"
   ]
  },
  {
   "cell_type": "code",
   "execution_count": 84,
   "id": "da8e923b",
   "metadata": {},
   "outputs": [],
   "source": [
    "test_data.drop(['addr_state','earliest_cr_line','emp_title','purpose','title'],axis=1,inplace=True)"
   ]
  },
  {
   "cell_type": "code",
   "execution_count": 85,
   "id": "fd3c70b0",
   "metadata": {},
   "outputs": [],
   "source": [
    "test_data['emp_length']=test_data['emp_length'].str.replace('years',' ')"
   ]
  },
  {
   "cell_type": "code",
   "execution_count": 86,
   "id": "ee4729d2",
   "metadata": {},
   "outputs": [
    {
     "name": "stderr",
     "output_type": "stream",
     "text": [
      "C:\\Users\\sanke\\AppData\\Local\\Temp\\ipykernel_268\\3869259593.py:1: FutureWarning: The default value of regex will change from True to False in a future version. In addition, single character regular expressions will *not* be treated as literal strings when regex=True.\n",
      "  test_data['emp_length']=test_data['emp_length'].str.replace('+',' ')\n"
     ]
    }
   ],
   "source": [
    "test_data['emp_length']=test_data['emp_length'].str.replace('+',' ')"
   ]
  },
  {
   "cell_type": "code",
   "execution_count": 87,
   "id": "421c82ce",
   "metadata": {},
   "outputs": [],
   "source": [
    "test_data['emp_length']=test_data['emp_length'].str.replace('< 1 year','0')"
   ]
  },
  {
   "cell_type": "code",
   "execution_count": 88,
   "id": "f180e2ec",
   "metadata": {},
   "outputs": [],
   "source": [
    "test_data['emp_length']=test_data['emp_length'].replace('1 year',1)"
   ]
  },
  {
   "cell_type": "code",
   "execution_count": 89,
   "id": "e14df587",
   "metadata": {},
   "outputs": [
    {
     "data": {
      "text/plain": [
       "dtype('O')"
      ]
     },
     "execution_count": 89,
     "metadata": {},
     "output_type": "execute_result"
    }
   ],
   "source": [
    "test_data['emp_length'].dtypes"
   ]
  },
  {
   "cell_type": "code",
   "execution_count": 90,
   "id": "df3e87ac",
   "metadata": {},
   "outputs": [
    {
     "data": {
      "text/plain": [
       "0         1.0\n",
       "1        10.0\n",
       "2        10.0\n",
       "3         9.0\n",
       "4         NaN\n",
       "         ... \n",
       "19995     4.0\n",
       "19996     3.0\n",
       "19997    10.0\n",
       "19998    10.0\n",
       "19999     0.0\n",
       "Name: emp_length, Length: 20000, dtype: float64"
      ]
     },
     "execution_count": 90,
     "metadata": {},
     "output_type": "execute_result"
    }
   ],
   "source": [
    "test_data['emp_length'].astype('float')"
   ]
  },
  {
   "cell_type": "code",
   "execution_count": 91,
   "id": "88bf40f9",
   "metadata": {},
   "outputs": [],
   "source": [
    "test_data['term']=test_data['term'].str.replace('months','')"
   ]
  },
  {
   "cell_type": "code",
   "execution_count": 92,
   "id": "8807de44",
   "metadata": {},
   "outputs": [
    {
     "data": {
      "text/plain": [
       "0        36.0\n",
       "1        36.0\n",
       "2        60.0\n",
       "3        36.0\n",
       "4        36.0\n",
       "         ... \n",
       "19995    36.0\n",
       "19996    60.0\n",
       "19997    36.0\n",
       "19998    36.0\n",
       "19999    60.0\n",
       "Name: term, Length: 20000, dtype: float64"
      ]
     },
     "execution_count": 92,
     "metadata": {},
     "output_type": "execute_result"
    }
   ],
   "source": [
    "test_data['term'].astype('float')"
   ]
  },
  {
   "cell_type": "code",
   "execution_count": 93,
   "id": "f24717ff",
   "metadata": {},
   "outputs": [],
   "source": [
    "test_data['grade'] = LE.fit_transform(test_data['grade'])"
   ]
  },
  {
   "cell_type": "code",
   "execution_count": 94,
   "id": "e5074d5e",
   "metadata": {},
   "outputs": [],
   "source": [
    "test_data['home_ownership'] = LE.fit_transform(test_data['home_ownership'])"
   ]
  },
  {
   "cell_type": "code",
   "execution_count": 95,
   "id": "fe139b01",
   "metadata": {},
   "outputs": [],
   "source": [
    "test_data['application_type'] = LE.fit_transform(test_data['application_type'])"
   ]
  },
  {
   "cell_type": "code",
   "execution_count": 96,
   "id": "7be28cd7",
   "metadata": {},
   "outputs": [],
   "source": [
    "test_data['initial_list_status'] = LE.fit_transform(test_data['initial_list_status'])"
   ]
  },
  {
   "cell_type": "code",
   "execution_count": 97,
   "id": "d119a963",
   "metadata": {},
   "outputs": [],
   "source": [
    "test_data['verification_status'] = LE.fit_transform(test_data['verification_status'])"
   ]
  },
  {
   "cell_type": "code",
   "execution_count": 98,
   "id": "558a190c",
   "metadata": {},
   "outputs": [],
   "source": [
    "test_data['sub_grade'] = LE.fit_transform(test_data['sub_grade'])"
   ]
  },
  {
   "cell_type": "code",
   "execution_count": 99,
   "id": "ce92da2f",
   "metadata": {},
   "outputs": [],
   "source": [
    "test_data['term'] = LE.fit_transform(test_data['term'])         "
   ]
  },
  {
   "cell_type": "code",
   "execution_count": 100,
   "id": "73af1fcd",
   "metadata": {},
   "outputs": [
    {
     "data": {
      "text/html": [
       "<div>\n",
       "<style scoped>\n",
       "    .dataframe tbody tr th:only-of-type {\n",
       "        vertical-align: middle;\n",
       "    }\n",
       "\n",
       "    .dataframe tbody tr th {\n",
       "        vertical-align: top;\n",
       "    }\n",
       "\n",
       "    .dataframe thead th {\n",
       "        text-align: right;\n",
       "    }\n",
       "</style>\n",
       "<table border=\"1\" class=\"dataframe\">\n",
       "  <thead>\n",
       "    <tr style=\"text-align: right;\">\n",
       "      <th></th>\n",
       "      <th>annual_inc</th>\n",
       "      <th>emp_length</th>\n",
       "      <th>fico_range_high</th>\n",
       "      <th>fico_range_low</th>\n",
       "      <th>grade</th>\n",
       "      <th>home_ownership</th>\n",
       "      <th>application_type</th>\n",
       "      <th>initial_list_status</th>\n",
       "      <th>int_rate</th>\n",
       "      <th>loan_amnt</th>\n",
       "      <th>num_actv_bc_tl</th>\n",
       "      <th>mort_acc</th>\n",
       "      <th>tot_cur_bal</th>\n",
       "      <th>open_acc</th>\n",
       "      <th>pub_rec</th>\n",
       "      <th>pub_rec_bankruptcies</th>\n",
       "      <th>revol_bal</th>\n",
       "      <th>revol_util</th>\n",
       "      <th>sub_grade</th>\n",
       "      <th>term</th>\n",
       "      <th>total_acc</th>\n",
       "      <th>verification_status</th>\n",
       "    </tr>\n",
       "  </thead>\n",
       "  <tbody>\n",
       "    <tr>\n",
       "      <th>0</th>\n",
       "      <td>50000.0</td>\n",
       "      <td>1</td>\n",
       "      <td>719.0</td>\n",
       "      <td>715.0</td>\n",
       "      <td>2</td>\n",
       "      <td>2</td>\n",
       "      <td>0</td>\n",
       "      <td>0</td>\n",
       "      <td>13.99</td>\n",
       "      <td>5000.0</td>\n",
       "      <td>1.0</td>\n",
       "      <td>0.0</td>\n",
       "      <td>33395.0</td>\n",
       "      <td>9.0</td>\n",
       "      <td>0.0</td>\n",
       "      <td>0.0</td>\n",
       "      <td>2568.0</td>\n",
       "      <td>9.8</td>\n",
       "      <td>13</td>\n",
       "      <td>0</td>\n",
       "      <td>11.0</td>\n",
       "      <td>1</td>\n",
       "    </tr>\n",
       "  </tbody>\n",
       "</table>\n",
       "</div>"
      ],
      "text/plain": [
       "   annual_inc emp_length  fico_range_high  fico_range_low  grade  \\\n",
       "0     50000.0          1            719.0           715.0      2   \n",
       "\n",
       "   home_ownership  application_type  initial_list_status  int_rate  loan_amnt  \\\n",
       "0               2                 0                    0     13.99     5000.0   \n",
       "\n",
       "   num_actv_bc_tl  mort_acc  tot_cur_bal  open_acc  pub_rec  \\\n",
       "0             1.0       0.0      33395.0       9.0      0.0   \n",
       "\n",
       "   pub_rec_bankruptcies  revol_bal  revol_util  sub_grade  term  total_acc  \\\n",
       "0                   0.0     2568.0         9.8         13     0       11.0   \n",
       "\n",
       "   verification_status  \n",
       "0                    1  "
      ]
     },
     "execution_count": 100,
     "metadata": {},
     "output_type": "execute_result"
    }
   ],
   "source": [
    "test_data.head(1)"
   ]
  },
  {
   "cell_type": "code",
   "execution_count": 101,
   "id": "f0770406",
   "metadata": {},
   "outputs": [
    {
     "data": {
      "text/plain": [
       "annual_inc              0.000000\n",
       "emp_length              1.655132\n",
       "fico_range_high         0.000000\n",
       "fico_range_low          0.000000\n",
       "grade                   0.000000\n",
       "home_ownership          0.000000\n",
       "application_type        0.000000\n",
       "initial_list_status     0.000000\n",
       "int_rate                0.000000\n",
       "loan_amnt               0.000000\n",
       "num_actv_bc_tl          1.330158\n",
       "mort_acc                0.926243\n",
       "tot_cur_bal             1.330158\n",
       "open_acc                0.000000\n",
       "pub_rec                 0.000000\n",
       "pub_rec_bankruptcies    0.014473\n",
       "revol_bal               0.000000\n",
       "revol_util              0.017104\n",
       "sub_grade               0.000000\n",
       "term                    0.000000\n",
       "total_acc               0.000000\n",
       "verification_status     0.000000\n",
       "dtype: float64"
      ]
     },
     "execution_count": 101,
     "metadata": {},
     "output_type": "execute_result"
    }
   ],
   "source": [
    "test_data.isnull().sum()*100/len(data)"
   ]
  },
  {
   "cell_type": "markdown",
   "id": "4136c103",
   "metadata": {},
   "source": [
    "Row cannot be drop as we have to test whole data so we fill the missing values with modes of there data"
   ]
  },
  {
   "cell_type": "code",
   "execution_count": 102,
   "id": "70cc96d0",
   "metadata": {},
   "outputs": [],
   "source": [
    "test_data['emp_length'] = test_data['emp_length'].fillna(test_data['emp_length'].mode()[0])\n",
    "test_data['num_actv_bc_tl'] = test_data['num_actv_bc_tl'].fillna(test_data['num_actv_bc_tl'].mode()[0])\n",
    "test_data['mort_acc'] = test_data['mort_acc'].fillna(test_data['mort_acc'].mode()[0])\n",
    "test_data['tot_cur_bal'] = test_data['tot_cur_bal'].fillna(test_data['tot_cur_bal'].mode()[0])\n",
    "test_data['pub_rec_bankruptcies'] = test_data['pub_rec_bankruptcies'].fillna(test_data['pub_rec_bankruptcies'].mode()[0])"
   ]
  },
  {
   "cell_type": "code",
   "execution_count": 103,
   "id": "4a99baa4",
   "metadata": {},
   "outputs": [],
   "source": [
    "test_data['revol_util'] = test_data['revol_util'].fillna(test_data['revol_util'].mode()[0])"
   ]
  },
  {
   "cell_type": "code",
   "execution_count": 104,
   "id": "42a28992",
   "metadata": {},
   "outputs": [
    {
     "data": {
      "text/plain": [
       "annual_inc              0\n",
       "emp_length              0\n",
       "fico_range_high         0\n",
       "fico_range_low          0\n",
       "grade                   0\n",
       "home_ownership          0\n",
       "application_type        0\n",
       "initial_list_status     0\n",
       "int_rate                0\n",
       "loan_amnt               0\n",
       "num_actv_bc_tl          0\n",
       "mort_acc                0\n",
       "tot_cur_bal             0\n",
       "open_acc                0\n",
       "pub_rec                 0\n",
       "pub_rec_bankruptcies    0\n",
       "revol_bal               0\n",
       "revol_util              0\n",
       "sub_grade               0\n",
       "term                    0\n",
       "total_acc               0\n",
       "verification_status     0\n",
       "dtype: int64"
      ]
     },
     "execution_count": 104,
     "metadata": {},
     "output_type": "execute_result"
    }
   ],
   "source": [
    "test_data.isnull().sum()"
   ]
  },
  {
   "cell_type": "code",
   "execution_count": 105,
   "id": "7e832adf",
   "metadata": {},
   "outputs": [],
   "source": [
    "test_data['emp_length'] = sc.fit_transform(pd.DataFrame(test_data['emp_length']))\n",
    "test_data['fico_range_high'] = sc.fit_transform(pd.DataFrame(test_data['fico_range_high']))\n",
    "test_data['fico_range_low'] = sc.fit_transform(pd.DataFrame(test_data['fico_range_low']))\n",
    "test_data['grade'] = sc.fit_transform(pd.DataFrame(test_data['grade']))\n",
    "test_data['home_ownership'] = sc.fit_transform(pd.DataFrame(test_data['home_ownership']))\n",
    "test_data['int_rate'] = sc.fit_transform(pd.DataFrame(test_data['int_rate']))\n",
    "test_data['loan_amnt'] = sc.fit_transform(pd.DataFrame(test_data['loan_amnt']))\n",
    "test_data['num_actv_bc_tl'] = sc.fit_transform(pd.DataFrame(test_data['num_actv_bc_tl']))\n",
    "test_data['mort_acc'] = sc.fit_transform(pd.DataFrame(test_data['mort_acc']))\n",
    "test_data['tot_cur_bal'] = sc.fit_transform(pd.DataFrame(test_data['tot_cur_bal']))\n",
    "test_data['open_acc'] = sc.fit_transform(pd.DataFrame(test_data['open_acc']))\n",
    "test_data['pub_rec'] = sc.fit_transform(pd.DataFrame(test_data['pub_rec']))\n",
    "test_data['pub_rec_bankruptcies'] = sc.fit_transform(pd.DataFrame(test_data['pub_rec_bankruptcies']))\n",
    "test_data['revol_bal'] = sc.fit_transform(pd.DataFrame(test_data['revol_bal']))\n",
    "test_data['revol_util'] = sc.fit_transform(pd.DataFrame(test_data['revol_util']))\n",
    "test_data['sub_grade'] = sc.fit_transform(pd.DataFrame(test_data['sub_grade']))\n",
    "test_data['total_acc'] = sc.fit_transform(pd.DataFrame(test_data['total_acc']))"
   ]
  },
  {
   "cell_type": "code",
   "execution_count": 106,
   "id": "6efcb4a4",
   "metadata": {},
   "outputs": [
    {
     "data": {
      "text/html": [
       "<div>\n",
       "<style scoped>\n",
       "    .dataframe tbody tr th:only-of-type {\n",
       "        vertical-align: middle;\n",
       "    }\n",
       "\n",
       "    .dataframe tbody tr th {\n",
       "        vertical-align: top;\n",
       "    }\n",
       "\n",
       "    .dataframe thead th {\n",
       "        text-align: right;\n",
       "    }\n",
       "</style>\n",
       "<table border=\"1\" class=\"dataframe\">\n",
       "  <thead>\n",
       "    <tr style=\"text-align: right;\">\n",
       "      <th></th>\n",
       "      <th>annual_inc</th>\n",
       "      <th>emp_length</th>\n",
       "      <th>fico_range_high</th>\n",
       "      <th>fico_range_low</th>\n",
       "      <th>grade</th>\n",
       "      <th>home_ownership</th>\n",
       "      <th>application_type</th>\n",
       "      <th>initial_list_status</th>\n",
       "      <th>int_rate</th>\n",
       "      <th>loan_amnt</th>\n",
       "      <th>num_actv_bc_tl</th>\n",
       "      <th>mort_acc</th>\n",
       "      <th>tot_cur_bal</th>\n",
       "      <th>open_acc</th>\n",
       "      <th>pub_rec</th>\n",
       "      <th>pub_rec_bankruptcies</th>\n",
       "      <th>revol_bal</th>\n",
       "      <th>revol_util</th>\n",
       "      <th>sub_grade</th>\n",
       "      <th>term</th>\n",
       "      <th>total_acc</th>\n",
       "      <th>verification_status</th>\n",
       "    </tr>\n",
       "  </thead>\n",
       "  <tbody>\n",
       "    <tr>\n",
       "      <th>0</th>\n",
       "      <td>50000.0</td>\n",
       "      <td>-1.407936</td>\n",
       "      <td>0.591656</td>\n",
       "      <td>0.591674</td>\n",
       "      <td>0.193571</td>\n",
       "      <td>0.105825</td>\n",
       "      <td>0</td>\n",
       "      <td>0</td>\n",
       "      <td>0.153094</td>\n",
       "      <td>-1.069855</td>\n",
       "      <td>-1.19284</td>\n",
       "      <td>-0.81734</td>\n",
       "      <td>-0.649586</td>\n",
       "      <td>-0.470876</td>\n",
       "      <td>-0.365681</td>\n",
       "      <td>-0.349326</td>\n",
       "      <td>-0.621159</td>\n",
       "      <td>-1.706683</td>\n",
       "      <td>0.354344</td>\n",
       "      <td>0</td>\n",
       "      <td>-1.159012</td>\n",
       "      <td>1</td>\n",
       "    </tr>\n",
       "  </tbody>\n",
       "</table>\n",
       "</div>"
      ],
      "text/plain": [
       "   annual_inc  emp_length  fico_range_high  fico_range_low     grade  \\\n",
       "0     50000.0   -1.407936         0.591656        0.591674  0.193571   \n",
       "\n",
       "   home_ownership  application_type  initial_list_status  int_rate  loan_amnt  \\\n",
       "0        0.105825                 0                    0  0.153094  -1.069855   \n",
       "\n",
       "   num_actv_bc_tl  mort_acc  tot_cur_bal  open_acc   pub_rec  \\\n",
       "0        -1.19284  -0.81734    -0.649586 -0.470876 -0.365681   \n",
       "\n",
       "   pub_rec_bankruptcies  revol_bal  revol_util  sub_grade  term  total_acc  \\\n",
       "0             -0.349326  -0.621159   -1.706683   0.354344     0  -1.159012   \n",
       "\n",
       "   verification_status  \n",
       "0                    1  "
      ]
     },
     "execution_count": 106,
     "metadata": {},
     "output_type": "execute_result"
    }
   ],
   "source": [
    "test_data.head(1)"
   ]
  },
  {
   "cell_type": "code",
   "execution_count": 107,
   "id": "cd1a3384",
   "metadata": {},
   "outputs": [],
   "source": [
    "Final_Result = model.predict(test_data)"
   ]
  },
  {
   "cell_type": "code",
   "execution_count": 108,
   "id": "75505cac",
   "metadata": {},
   "outputs": [
    {
     "data": {
      "text/plain": [
       "array([1, 1, 1, ..., 1, 1, 1], dtype=int64)"
      ]
     },
     "execution_count": 108,
     "metadata": {},
     "output_type": "execute_result"
    }
   ],
   "source": [
    "Final_Result"
   ]
  }
 ],
 "metadata": {
  "kernelspec": {
   "display_name": "Python 3 (ipykernel)",
   "language": "python",
   "name": "python3"
  },
  "language_info": {
   "codemirror_mode": {
    "name": "ipython",
    "version": 3
   },
   "file_extension": ".py",
   "mimetype": "text/x-python",
   "name": "python",
   "nbconvert_exporter": "python",
   "pygments_lexer": "ipython3",
   "version": "3.11.4"
  }
 },
 "nbformat": 4,
 "nbformat_minor": 5
}
